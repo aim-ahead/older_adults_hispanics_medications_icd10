{
 "cells": [
  {
   "cell_type": "markdown",
   "id": "309ccfce",
   "metadata": {},
   "source": [
    "## Patients 65+ Descriptive Analysis & Table1"
   ]
  },
  {
   "cell_type": "code",
   "execution_count": null,
   "id": "a8868824",
   "metadata": {},
   "outputs": [],
   "source": [
    "#import libraries\n",
    "import pandas as pd\n",
    "import matplotlib.pyplot as plt\n",
    "import seaborn as sns"
   ]
  },
  {
   "cell_type": "code",
   "execution_count": null,
   "id": "b2726467",
   "metadata": {},
   "outputs": [],
   "source": [
    "#install TBL1\n",
    "!pip install tableone"
   ]
  },
  {
   "cell_type": "code",
   "execution_count": null,
   "id": "68015950",
   "metadata": {},
   "outputs": [],
   "source": [
    "#import Tbl1\n",
    "from tableone import TableOne"
   ]
  },
  {
   "cell_type": "code",
   "execution_count": null,
   "id": "074dc265",
   "metadata": {},
   "outputs": [],
   "source": [
    "#read file TableObe65plus and assign to object\n",
    "elders_data = pd.read_csv('TableOne65plus_v5.txt', dtype={0: str, 1: str, 2: str, 3: str, 4: str, 5: str, 6: str, 7: str, 8: float})"
   ]
  },
  {
   "cell_type": "code",
   "execution_count": null,
   "id": "6ceb8e34",
   "metadata": {},
   "outputs": [],
   "source": [
    "#specify columns \n",
    "elders_data.columns = ['ID', 'FPL', 'Race', 'Hispanic', 'Sex', 'Lang', 'M_Status','State', 'Age']"
   ]
  },
  {
   "cell_type": "code",
   "execution_count": null,
   "id": "18e04d81",
   "metadata": {},
   "outputs": [],
   "source": [
    "print(elders_data.info())"
   ]
  },
  {
   "cell_type": "code",
   "execution_count": null,
   "id": "171fc1bd",
   "metadata": {},
   "outputs": [],
   "source": [
    "print(elders_data.shape)"
   ]
  },
  {
   "cell_type": "code",
   "execution_count": null,
   "id": "7d21deb5",
   "metadata": {},
   "outputs": [],
   "source": [
    "print(elders_data.head())"
   ]
  },
  {
   "cell_type": "code",
   "execution_count": null,
   "id": "8ca48d8f",
   "metadata": {},
   "outputs": [],
   "source": [
    "print(elders_data.describe().round(2))"
   ]
  },
  {
   "cell_type": "code",
   "execution_count": null,
   "id": "de7a6b7a",
   "metadata": {},
   "outputs": [],
   "source": [
    "#number of unique values in column ID \n",
    "num_distinct_ids = elders_data['ID'].nunique()\n",
    "print(num_distinct_ids)"
   ]
  },
  {
   "cell_type": "code",
   "execution_count": null,
   "id": "c349ab58",
   "metadata": {},
   "outputs": [],
   "source": [
    "#dataframe sorted by ID and Age\n",
    "elders_data_sorted = elders_data.sort_values(['ID', 'Age'])\n",
    "\n",
    "#Set the display width to a larger value to see it in one line\n",
    "pd.set_option('display.width', 1000)\n",
    "\n",
    "#visual validation\n",
    "print(elders_data_sorted.head())"
   ]
  },
  {
   "cell_type": "code",
   "execution_count": null,
   "id": "4d58a299",
   "metadata": {},
   "outputs": [],
   "source": [
    "#sorted dataframe grouped by ID \n",
    "#select the first row (the row with the minimum age) for each group\n",
    "elders_data_min_age = elders_data_sorted.groupby('ID').first().reset_index()"
   ]
  },
  {
   "cell_type": "code",
   "execution_count": null,
   "id": "dc47b3e7",
   "metadata": {},
   "outputs": [],
   "source": [
    "#visual validation\n",
    "pd.set_option('display.width', 1000)\n",
    "print(elders_data_min_age.head())"
   ]
  },
  {
   "cell_type": "code",
   "execution_count": null,
   "id": "cdbd8b2a",
   "metadata": {},
   "outputs": [],
   "source": [
    "#visual validation\n",
    "print(elders_data_min_age.shape)"
   ]
  },
  {
   "cell_type": "code",
   "execution_count": null,
   "id": "d7d07645",
   "metadata": {},
   "outputs": [],
   "source": [
    "#visual validation\n",
    "pd.set_option('display.width', 1000)\n",
    "print(elders_data_min_age.head(100))"
   ]
  },
  {
   "cell_type": "code",
   "execution_count": null,
   "id": "73cf8a6b",
   "metadata": {},
   "outputs": [],
   "source": [
    "pd.set_option('display.width', 2000)\n",
    "print(elders_data_min_age.shape,elders_data_min_age.info(), elders_data_min_age.describe())\n",
    "print(elders_data_min_age.groupby('Hispanic')['Age'].agg(['count', min, max, 'mean']))\n",
    "print(elders_data_min_age.groupby('Race')['Age'].agg(['count', min, max, 'mean']))"
   ]
  },
  {
   "cell_type": "code",
   "execution_count": null,
   "id": "0559f065",
   "metadata": {},
   "outputs": [],
   "source": [
    "print('Age min =', elders_data_min_age['Age'].min(), 'and Age max =', elders_data_min_age['Age'].max())"
   ]
  },
  {
   "cell_type": "code",
   "execution_count": null,
   "id": "2de62cf8",
   "metadata": {},
   "outputs": [],
   "source": [
    "#export the dataframe to a txt file\n",
    "elders_data_min_age.to_csv('elders_data_min_age.txt', index=True, header=True)"
   ]
  },
  {
   "cell_type": "code",
   "execution_count": null,
   "id": "a71fdc0c",
   "metadata": {},
   "outputs": [],
   "source": [
    "#read file num_encounters_all_patients and assign to object\n",
    "num_encounters_all_patients = pd.read_csv('num_encounters_all_patients.txt', dtype={0: str, 1: str, 2: str, 3: str, 4: float})"
   ]
  },
  {
   "cell_type": "code",
   "execution_count": null,
   "id": "5ed877f6",
   "metadata": {},
   "outputs": [],
   "source": [
    "#specify columns \n",
    "num_encounters_all_patients.columns = ['ID', 'F_treatYR', 'L_treatYR', 'N_Encounters']"
   ]
  },
  {
   "cell_type": "code",
   "execution_count": null,
   "id": "2102906a",
   "metadata": {},
   "outputs": [],
   "source": [
    "print(num_encounters_all_patients.head())"
   ]
  },
  {
   "cell_type": "code",
   "execution_count": null,
   "id": "ddfc750c",
   "metadata": {},
   "outputs": [],
   "source": [
    "print(num_encounters_all_patients.info())"
   ]
  },
  {
   "cell_type": "code",
   "execution_count": null,
   "id": "a10b3199",
   "metadata": {},
   "outputs": [],
   "source": [
    "num_encounters_all_patients['N_Encounters'] = num_encounters_all_patients['N_Encounters'].astype(float)"
   ]
  },
  {
   "cell_type": "code",
   "execution_count": null,
   "id": "9b0ed9ab",
   "metadata": {},
   "outputs": [],
   "source": [
    "#join data frames on ID column\n",
    "elders_data_min_age_encounters = pd.merge(elders_data_min_age, num_encounters_all_patients, on='ID')"
   ]
  },
  {
   "cell_type": "code",
   "execution_count": null,
   "id": "5553dcd5",
   "metadata": {},
   "outputs": [],
   "source": [
    "print(elders_data_min_age_encounters.info())"
   ]
  },
  {
   "cell_type": "code",
   "execution_count": null,
   "id": "cbcc0b90",
   "metadata": {},
   "outputs": [],
   "source": [
    "pd.set_option('display.width', 1000)\n",
    "print(elders_data_min_age_encounters.head())"
   ]
  },
  {
   "cell_type": "code",
   "execution_count": null,
   "id": "2631618e",
   "metadata": {},
   "outputs": [],
   "source": [
    "#TableOne for selected variables (elimine State, pero se puede incluir)\n",
    "selected_columns = ['FPL', 'Hispanic', 'Sex', 'Lang', 'M_Status', 'Age', 'N_Encounters']\n",
    "categorical_columns = ['FPL', 'Hispanic', 'Sex', 'Lang', 'M_Status']\n",
    "tbl2 = TableOne(data = elders_data_min_age_encounters, columns = selected_columns, categorical = categorical_columns, groupby ='Hispanic', label_suffix=True, htest_name=True, pval=True)\n",
    "pd.set_option('display.width', 100)\n",
    "print(tbl2.tabulate(tablefmt ='presto'))"
   ]
  },
  {
   "cell_type": "code",
   "execution_count": null,
   "id": "ecd08222",
   "metadata": {},
   "outputs": [],
   "source": [
    "#export table\n",
    "tbl2.to_html('table1.html', index=False)"
   ]
  },
  {
   "cell_type": "markdown",
   "id": "2b4ff2a7",
   "metadata": {},
   "source": [
    "## Plots"
   ]
  },
  {
   "cell_type": "code",
   "execution_count": null,
   "id": "23400315",
   "metadata": {},
   "outputs": [],
   "source": [
    "sns.boxplot(data=elders_data_min_age, x='Hispanic', y='Age').set_title('Hispanic (Y/N) by Age', y=1.0)\n",
    "plt.show()"
   ]
  },
  {
   "cell_type": "code",
   "execution_count": null,
   "id": "3f7b418d",
   "metadata": {},
   "outputs": [],
   "source": [
    "sns.boxplot(data=elders_data_min_age, x='Sex', y='Age').set_title('Sex by Age', y=1.0)\n",
    "plt.show()"
   ]
  },
  {
   "cell_type": "code",
   "execution_count": null,
   "id": "1265219c",
   "metadata": {},
   "outputs": [],
   "source": [
    "sns.boxplot(data=elders_data_min_age,y='M_Status', x='Age', hue='Hispanic').set_title('Age by Marital Status and Hispanic', y=1.0)\n",
    "plt.legend(loc='lower right')\n",
    "plt.show()"
   ]
  },
  {
   "cell_type": "code",
   "execution_count": null,
   "id": "b9c0d7cb",
   "metadata": {
    "scrolled": true
   },
   "outputs": [],
   "source": [
    "plt.figure(figsize=(5, 3))\n",
    "sns.boxplot(data=elders_data_min_age,y='Hispanic', x='Age', hue='Sex').set_title('Hispanic by Age and Sex', y=1.0)\n",
    "\n",
    "plt.legend(loc='lower right')\n",
    "plt.show()\n"
   ]
  },
  {
   "cell_type": "code",
   "execution_count": null,
   "id": "6d4e5f6b",
   "metadata": {},
   "outputs": [],
   "source": [
    "plt.figure(figsize=(10, 6)) \n",
    "sns.boxplot(data=elders_data_min_age_encounters, y='Hispanic', x='N_Encounters').set_title('Number of Encounters by Hispanic and Age', y=1.0)\n",
    "plt.xlim(0, 1000)\n",
    "plt.show()"
   ]
  },
  {
   "cell_type": "code",
   "execution_count": null,
   "id": "d11202ab",
   "metadata": {},
   "outputs": [],
   "source": [
    "summary_stats = elders_data_min_age_encounters.groupby('Hispanic')['N_Encounters'].describe().round(2)\n",
    "print(summary_stats.T)"
   ]
  },
  {
   "cell_type": "code",
   "execution_count": null,
   "id": "4e51415f",
   "metadata": {},
   "outputs": [],
   "source": [
    "#export the dataframe to a txt file\n",
    "elders_data_min_age_encounters.to_csv('elders_data_min_age_encounters.txt', index=True, header=True)"
   ]
  },
  {
   "cell_type": "code",
   "execution_count": null,
   "id": "0ef0a9e4",
   "metadata": {},
   "outputs": [],
   "source": []
  }
 ],
 "metadata": {
  "kernelspec": {
   "display_name": "conda_python3",
   "language": "python",
   "name": "conda_python3"
  },
  "language_info": {
   "codemirror_mode": {
    "name": "ipython",
    "version": 3
   },
   "file_extension": ".py",
   "mimetype": "text/x-python",
   "name": "python",
   "nbconvert_exporter": "python",
   "pygments_lexer": "ipython3",
   "version": "3.10.12"
  }
 },
 "nbformat": 4,
 "nbformat_minor": 5
}
