{
 "cells": [
  {
   "cell_type": "code",
   "execution_count": null,
   "id": "0455a41e",
   "metadata": {},
   "outputs": [],
   "source": [
    "#import libraries\n",
    "import pandas as pd\n",
    "import matplotlib.pyplot as plt\n",
    "import numpy as np\n",
    "import seaborn as sns"
   ]
  },
  {
   "cell_type": "code",
   "execution_count": null,
   "id": "ffb591cb",
   "metadata": {},
   "outputs": [],
   "source": [
    "#read file TableObe65plus and assign to object\n",
    "icd = pd.read_csv('tblICD10.txt', dtype={0: str, 1: str, 2: str, 3: str, 4: str})"
   ]
  },
  {
   "cell_type": "code",
   "execution_count": null,
   "id": "0810f3fb",
   "metadata": {},
   "outputs": [],
   "source": [
    "print(icd.info())"
   ]
  },
  {
   "cell_type": "code",
   "execution_count": null,
   "id": "9b673a14",
   "metadata": {},
   "outputs": [],
   "source": [
    "pd.set_option('display.width', 1000)\n",
    "print(icd.head())"
   ]
  },
  {
   "cell_type": "code",
   "execution_count": null,
   "id": "adc9f52d",
   "metadata": {},
   "outputs": [],
   "source": [
    "#specify columns \n",
    "icd.columns = ['patient', 'ICD', 'Hispanic', 'year']"
   ]
  },
  {
   "cell_type": "code",
   "execution_count": null,
   "id": "b442737e",
   "metadata": {},
   "outputs": [],
   "source": [
    "print(icd.head())"
   ]
  },
  {
   "cell_type": "code",
   "execution_count": null,
   "id": "69e744e0",
   "metadata": {},
   "outputs": [],
   "source": [
    "#format the data\n",
    "icd['ICD'] = icd['ICD'].str.replace('.*:', '', regex=True)\n",
    "icd['ICD'] = icd['ICD'].str.replace('\\..*', '', regex=True)\n",
    "icd['Hispanic'] = icd['Hispanic'].str.replace('.*:', '', regex=True)"
   ]
  },
  {
   "cell_type": "code",
   "execution_count": null,
   "id": "e6a6be0b",
   "metadata": {},
   "outputs": [],
   "source": [
    "print(icd.head())"
   ]
  },
  {
   "cell_type": "code",
   "execution_count": null,
   "id": "2306342b",
   "metadata": {},
   "outputs": [],
   "source": [
    "#estimate the frequency of each code per year\n",
    "#icd_counts = icd.groupby('ICD', 'demog', 'year')['ICD'].count()\n",
    "icd_counts = icd.groupby(['ICD', 'Hispanic', 'year']).size().reset_index(name='n')"
   ]
  },
  {
   "cell_type": "code",
   "execution_count": null,
   "id": "91668e6b",
   "metadata": {},
   "outputs": [],
   "source": [
    "print(icd_counts.head(20))"
   ]
  },
  {
   "cell_type": "code",
   "execution_count": null,
   "id": "711eafd4",
   "metadata": {},
   "outputs": [],
   "source": [
    "icd_totals = icd.groupby(['Hispanic', 'year'])['patient'].nunique().reset_index(name='total')\n",
    "\n",
    "print(icd_totals.head(10))"
   ]
  },
  {
   "cell_type": "code",
   "execution_count": null,
   "id": "ef54f509",
   "metadata": {},
   "outputs": [],
   "source": [
    "frequencies = icd_counts.merge(icd_totals, on=['Hispanic', 'year'], how='left')\n",
    "frequencies['percentage'] = round(frequencies['n'] / frequencies['total'] * 100, 2)\n",
    "pd.set_option('display.max_rows', None) \n",
    "pd.set_option('display.max_columns', None) \n",
    "print(frequencies)"
   ]
  },
  {
   "cell_type": "code",
   "execution_count": null,
   "id": "0e2dca5c",
   "metadata": {},
   "outputs": [],
   "source": [
    "#export the dataframe to a txt file\n",
    "frequencies.to_csv('frequencies.txt', index=False, header=True)"
   ]
  },
  {
   "cell_type": "code",
   "execution_count": null,
   "id": "ac92685b",
   "metadata": {},
   "outputs": [],
   "source": []
  }
 ],
 "metadata": {
  "kernelspec": {
   "display_name": "conda_python3",
   "language": "python",
   "name": "conda_python3"
  },
  "language_info": {
   "codemirror_mode": {
    "name": "ipython",
    "version": 3
   },
   "file_extension": ".py",
   "mimetype": "text/x-python",
   "name": "python",
   "nbconvert_exporter": "python",
   "pygments_lexer": "ipython3",
   "version": "3.10.12"
  }
 },
 "nbformat": 4,
 "nbformat_minor": 5
}
