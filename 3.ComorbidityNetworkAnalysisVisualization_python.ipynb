{
 "cells": [
  {
   "cell_type": "code",
   "execution_count": null,
   "id": "0455a41e",
   "metadata": {},
   "outputs": [],
   "source": [
    "#import libraries\n",
    "import pandas as pd\n",
    "import matplotlib.pyplot as plt\n",
    "import numpy as np\n",
    "import seaborn as sns\n",
    "from itertools import combinations\n",
    "from scipy.stats import fisher_exact\n",
    "import statsmodels.stats.contingency_tables as ct"
   ]
  },
  {
   "cell_type": "code",
   "execution_count": null,
   "id": "8e850b29",
   "metadata": {},
   "outputs": [],
   "source": [
    "pip install python-igraph"
   ]
  },
  {
   "cell_type": "code",
   "execution_count": null,
   "id": "d7db5ba2",
   "metadata": {},
   "outputs": [],
   "source": [
    "import igraph as ig"
   ]
  },
  {
   "cell_type": "code",
   "execution_count": null,
   "id": "a197f611",
   "metadata": {},
   "outputs": [],
   "source": [
    "pip install cairocffi"
   ]
  },
  {
   "cell_type": "code",
   "execution_count": null,
   "id": "de123772",
   "metadata": {},
   "outputs": [],
   "source": [
    "pip install pycairo"
   ]
  },
  {
   "cell_type": "code",
   "execution_count": null,
   "id": "20f649a3",
   "metadata": {},
   "outputs": [],
   "source": [
    "pip install plotnine"
   ]
  },
  {
   "cell_type": "code",
   "execution_count": null,
   "id": "3afa46c8",
   "metadata": {},
   "outputs": [],
   "source": [
    "from plotnine import ggplot, aes, geom_tile, geom_text, scale_fill_gradient, ggtitle"
   ]
  },
  {
   "cell_type": "markdown",
   "id": "e4cb85a0",
   "metadata": {},
   "source": [
    "## Hipanics network analysis"
   ]
  },
  {
   "cell_type": "code",
   "execution_count": null,
   "id": "d8f7ed2b",
   "metadata": {},
   "outputs": [],
   "source": [
    "#read file results_filt and assign to object\n",
    "icd_hispanics = pd.read_csv('icd_hispanics.txt') "
   ]
  },
  {
   "cell_type": "code",
   "execution_count": null,
   "id": "ffb591cb",
   "metadata": {},
   "outputs": [],
   "source": [
    "#read file results_filt and assign to object\n",
    "edges = pd.read_csv('results_filt.txt') "
   ]
  },
  {
   "cell_type": "code",
   "execution_count": null,
   "id": "f0f5bdcc",
   "metadata": {
    "scrolled": true
   },
   "outputs": [],
   "source": [
    "edges.head()"
   ]
  },
  {
   "cell_type": "code",
   "execution_count": null,
   "id": "f67611c3",
   "metadata": {},
   "outputs": [],
   "source": [
    "# Creating disPrev DataFrame\n",
    "disPrev1 = edges[['disAcode', 'disA']]\n",
    "disPrev1.columns = ['dis', 'patients']\n",
    "\n",
    "disPrev2 = edges[['disBcode', 'disB']]\n",
    "disPrev2.columns = ['dis', 'patients']\n",
    "\n",
    "disPrev = pd.concat([disPrev1, disPrev2])\n",
    "disPrev = disPrev[~disPrev.duplicated(subset='dis')]\n",
    "\n",
    "# Prevalence calculation\n",
    "disPrev['prevalence'] = (disPrev['patients'].astype(float) / len(icd_hispanics['patient'].unique())) * 100\n",
    "\n",
    "disPrev"
   ]
  },
  {
   "cell_type": "code",
   "execution_count": null,
   "id": "d4b7d0c7",
   "metadata": {},
   "outputs": [],
   "source": [
    "nodes = disPrev"
   ]
  },
  {
   "cell_type": "code",
   "execution_count": null,
   "id": "0810f3fb",
   "metadata": {},
   "outputs": [],
   "source": [
    "nodes.head()"
   ]
  },
  {
   "cell_type": "code",
   "execution_count": null,
   "id": "68153510",
   "metadata": {},
   "outputs": [],
   "source": [
    "g = ig.Graph.TupleList(edges.values,directed=True,\n",
    "                       edge_attrs=edges.columns[2:])"
   ]
  },
  {
   "cell_type": "code",
   "execution_count": null,
   "id": "7a8418fe",
   "metadata": {},
   "outputs": [],
   "source": [
    "print(g)"
   ]
  },
  {
   "cell_type": "code",
   "execution_count": null,
   "id": "5c5cdc78",
   "metadata": {},
   "outputs": [],
   "source": [
    "nodes_df = disPrev.set_index(['dis'])\n",
    "for column in nodes_df:\n",
    "    g.vs[column] = nodes_df.loc[g.vs['name'],column]"
   ]
  },
  {
   "cell_type": "code",
   "execution_count": null,
   "id": "5d4da2d4",
   "metadata": {},
   "outputs": [],
   "source": [
    "nodes_df = disPrev.set_index(['dis'])\n",
    "nodes_df.head()"
   ]
  },
  {
   "cell_type": "code",
   "execution_count": null,
   "id": "fe2f5a4f",
   "metadata": {},
   "outputs": [],
   "source": [
    "print(g)"
   ]
  },
  {
   "cell_type": "code",
   "execution_count": null,
   "id": "80ef64fb",
   "metadata": {},
   "outputs": [],
   "source": [
    "#Create igraph object using Nodes and Edges datasets\n",
    "G = ig.Graph.DictList(\n",
    "          vertices=nodes.to_dict('records'),\n",
    "          edges=edges.to_dict('records'),\n",
    "          directed=True,\n",
    "          vertex_name_attr='dis',\n",
    "          edge_foreign_keys=('disAcode', 'disBcode'));"
   ]
  },
  {
   "cell_type": "code",
   "execution_count": null,
   "id": "0c12efee",
   "metadata": {},
   "outputs": [],
   "source": [
    "links = edges.groupby(['disAcode', 'disBcode'])['relativeRisk'].sum().reset_index()\n",
    "print(edges.shape,'\\n',links.shape)"
   ]
  },
  {
   "cell_type": "code",
   "execution_count": null,
   "id": "e959f06f",
   "metadata": {},
   "outputs": [],
   "source": [
    "g = ig.Graph.TupleList(links.values,directed=True,\n",
    "                       edge_attrs=links.columns[2:])\n",
    "\n",
    "for column in nodes_df:\n",
    "    g.vs[column] = nodes_df.loc[g.vs['name'],column]"
   ]
  },
  {
   "cell_type": "code",
   "execution_count": null,
   "id": "98e36744",
   "metadata": {},
   "outputs": [],
   "source": [
    "# Normalize the prevalence and relativeRisk values\n",
    "# You can adjust the scaling factor to control the size\n",
    "max_prevalence = max(g.vs['prevalence'])\n",
    "max_relative_risk = max(g.es['relativeRisk'])\n",
    "\n",
    "# Scale factor for node size\n",
    "node_scale_factor = 60  # Adjust as needed\n",
    "\n",
    "# Scale factor for edge size\n",
    "edge_scale_factor = 4  # Adjust as needed\n",
    "\n",
    "# Set the node size based on 'prevalence'\n",
    "g.vs['size'] = [v['prevalence'] / max_prevalence * node_scale_factor for v in g.vs]\n",
    "\n",
    "# Set the edge width based on 'relativeRisk'\n",
    "g.es['width'] = [e['relativeRisk'] / max_relative_risk * edge_scale_factor for e in g.es]\n",
    "\n",
    "# Round edge values to two decimal places\n",
    "rounded_edge_values = [round(value, 2) for value in g.es['relativeRisk']]\n",
    "\n",
    "# Create a circular layout\n",
    "layout = g.layout_circle()\n",
    "\n",
    "# Plot the graph\n",
    "ig.plot(\n",
    "    g,\n",
    "    \"Graph.png\",\n",
    "    layout=layout,\n",
    "    bbox=(300, 300),\n",
    "    vertex_label=g.vs[\"name\"],\n",
    "    vertex_size=g.vs['size'],\n",
    "    vertex_label_size = 12,\n",
    "    edge_width=g.es['width'],\n",
    "    edge_label=rounded_edge_values,\n",
    "    edge_arrow_size=0,\n",
    "    edge_label_size = 0,\n",
    "    vertex_color= 'blue',\n",
    ")"
   ]
  },
  {
   "cell_type": "markdown",
   "id": "c0591594",
   "metadata": {},
   "source": [
    "## Non hipanics network analysis"
   ]
  },
  {
   "cell_type": "code",
   "execution_count": null,
   "id": "c8ae70a7",
   "metadata": {},
   "outputs": [],
   "source": [
    "#read file results_filt and assign to object\n",
    "edges2 = pd.read_csv('results_filt_2.txt') "
   ]
  },
  {
   "cell_type": "code",
   "execution_count": null,
   "id": "b502b038",
   "metadata": {
    "scrolled": true
   },
   "outputs": [],
   "source": [
    "edges2.head()"
   ]
  },
  {
   "cell_type": "code",
   "execution_count": null,
   "id": "2012a40b",
   "metadata": {},
   "outputs": [],
   "source": [
    "# Creating disPrev DataFrame\n",
    "disPrev3 = edges2[['disAcode', 'disA']]\n",
    "disPrev3.columns = ['dis', 'patients']\n",
    "\n",
    "disPrev4 = edges2[['disBcode', 'disB']]\n",
    "disPrev4.columns = ['dis', 'patients']\n",
    "\n",
    "disPrev_2 = pd.concat([disPrev3, disPrev4])\n",
    "disPrev_2 = disPrev_2[~disPrev_2.duplicated(subset='dis')]\n",
    "\n",
    "# Prevalence calculation\n",
    "disPrev_2['prevalence'] = (disPrev_2['patients'].astype(float) / len(icd_hispanics['patient'].unique())) * 100\n",
    "\n",
    "disPrev_2"
   ]
  },
  {
   "cell_type": "code",
   "execution_count": null,
   "id": "35b54446",
   "metadata": {},
   "outputs": [],
   "source": [
    "nodes2 = disPrev_2"
   ]
  },
  {
   "cell_type": "code",
   "execution_count": null,
   "id": "66fb77ef",
   "metadata": {},
   "outputs": [],
   "source": [
    "nodes2.head()"
   ]
  },
  {
   "cell_type": "code",
   "execution_count": null,
   "id": "2ad4f3df",
   "metadata": {},
   "outputs": [],
   "source": [
    "g2 = ig.Graph.TupleList(edges2.values,directed=True,\n",
    "                       edge_attrs=edges2.columns[2:])"
   ]
  },
  {
   "cell_type": "code",
   "execution_count": null,
   "id": "d13659a3",
   "metadata": {},
   "outputs": [],
   "source": [
    "print(g2)"
   ]
  },
  {
   "cell_type": "code",
   "execution_count": null,
   "id": "fefacaf6",
   "metadata": {},
   "outputs": [],
   "source": [
    "nodes_df_2 = disPrev_2.set_index(['dis'])\n",
    "for column in nodes_df:\n",
    "    g2.vs[column] = nodes_df_2.loc[g.vs['name'],column]"
   ]
  },
  {
   "cell_type": "code",
   "execution_count": null,
   "id": "4047892b",
   "metadata": {},
   "outputs": [],
   "source": [
    "nodes_df_2 = disPrev_2.set_index(['dis'])\n",
    "nodes_df_2.head()"
   ]
  },
  {
   "cell_type": "code",
   "execution_count": null,
   "id": "e5b7ae26",
   "metadata": {},
   "outputs": [],
   "source": [
    "print(g2)"
   ]
  },
  {
   "cell_type": "code",
   "execution_count": null,
   "id": "17f4ac55",
   "metadata": {},
   "outputs": [],
   "source": [
    "#Create igraph object using Nodes and Edges datasets\n",
    "G2 = ig.Graph.DictList(\n",
    "          vertices=nodes2.to_dict('records'),\n",
    "          edges=edges2.to_dict('records'),\n",
    "          directed=True,\n",
    "          vertex_name_attr='dis',\n",
    "          edge_foreign_keys=('disAcode', 'disBcode'));"
   ]
  },
  {
   "cell_type": "code",
   "execution_count": null,
   "id": "dae21bd0",
   "metadata": {},
   "outputs": [],
   "source": [
    "links2 = edges2.groupby(['disAcode', 'disBcode'])['relativeRisk'].sum().reset_index()\n",
    "print(edges2.shape,'\\n',links2.shape)"
   ]
  },
  {
   "cell_type": "code",
   "execution_count": null,
   "id": "94ba14c2",
   "metadata": {},
   "outputs": [],
   "source": [
    "g2 = ig.Graph.TupleList(links2.values,directed=True,\n",
    "                       edge_attrs=links2.columns[2:])\n",
    "\n",
    "for column in nodes_df:\n",
    "    g2.vs[column] = nodes_df_2.loc[g2.vs['name'],column]"
   ]
  },
  {
   "cell_type": "code",
   "execution_count": null,
   "id": "4d76c1e9",
   "metadata": {},
   "outputs": [],
   "source": [
    "# Normalize the prevalence and relativeRisk values\n",
    "# You can adjust the scaling factor to control the size\n",
    "max_prevalence = max(g2.vs['prevalence'])\n",
    "max_relative_risk = max(g2.es['relativeRisk'])\n",
    "\n",
    "# Scale factor for node size\n",
    "node_scale_factor = 60  # Adjust as needed\n",
    "\n",
    "# Scale factor for edge size\n",
    "edge_scale_factor = 4  # Adjust as needed\n",
    "\n",
    "# Set the node size based on 'prevalence'\n",
    "g2.vs['size'] = [v['prevalence'] / max_prevalence * node_scale_factor for v in g2.vs]\n",
    "\n",
    "# Set the edge width based on 'relativeRisk'\n",
    "g2.es['width'] = [e['relativeRisk'] / max_relative_risk * edge_scale_factor for e in g2.es]\n",
    "\n",
    "# Round edge values to two decimal places\n",
    "rounded_edge_values = [round(value, 2) for value in g2.es['relativeRisk']]\n",
    "\n",
    "# Create a circular layout\n",
    "layout = g2.layout_circle()\n",
    "\n",
    "# Plot the graph\n",
    "ig.plot(\n",
    "    g2,\n",
    "    \"Graph.png\",\n",
    "    layout=layout,\n",
    "    bbox=(300, 300),\n",
    "    vertex_label=g2.vs[\"name\"],\n",
    "    vertex_size=g2.vs['size'],\n",
    "    vertex_label_size = 12,\n",
    "    edge_width=g2.es['width'],\n",
    "    edge_label=rounded_edge_values,\n",
    "    edge_arrow_size=0,\n",
    "    edge_label_size = 0,\n",
    "    vertex_color= 'blue'\n",
    ")"
   ]
  },
  {
   "cell_type": "code",
   "execution_count": null,
   "id": "06a0c45d",
   "metadata": {},
   "outputs": [],
   "source": []
  }
 ],
 "metadata": {
  "kernelspec": {
   "display_name": "conda_python3",
   "language": "python",
   "name": "conda_python3"
  },
  "language_info": {
   "codemirror_mode": {
    "name": "ipython",
    "version": 3
   },
   "file_extension": ".py",
   "mimetype": "text/x-python",
   "name": "python",
   "nbconvert_exporter": "python",
   "pygments_lexer": "ipython3",
   "version": "3.10.12"
  }
 },
 "nbformat": 4,
 "nbformat_minor": 5
}
