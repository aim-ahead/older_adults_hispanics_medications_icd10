{
 "cells": [
  {
   "cell_type": "code",
   "execution_count": null,
   "id": "8a11ea33",
   "metadata": {},
   "outputs": [],
   "source": [
    "#### Packages installation\n",
    "library(dplyr)\n",
    "library(tidyverse)\n",
    "library(ggplot2)"
   ]
  },
  {
   "cell_type": "code",
   "execution_count": null,
   "id": "9c3ad3fa",
   "metadata": {},
   "outputs": [],
   "source": [
    "### read the ICD codes data\n",
    "icd <- read.delim(\"/home/ec2-user/studies/Research-Fellowship-jonathan-hernandez-agosto/tblICD10.csv\", sep=\",\", header = FALSE)\n"
   ]
  },
  {
   "cell_type": "code",
   "execution_count": null,
   "id": "c5de0025",
   "metadata": {},
   "outputs": [],
   "source": [
    "dim(icd)"
   ]
  },
  {
   "cell_type": "code",
   "execution_count": null,
   "id": "fbd9c306",
   "metadata": {},
   "outputs": [],
   "source": [
    "head(icd)"
   ]
  },
  {
   "cell_type": "code",
   "execution_count": null,
   "id": "588c1983",
   "metadata": {},
   "outputs": [],
   "source": [
    "#format the data\n",
    "icd_formatted <- icd %>%\n",
    "mutate( ICD = sapply(strsplit( as.character(V2), \"[.]\"), '[', 1), \n",
    "        ICD = gsub(\"ICD10CM:\", \"\", ICD), \n",
    "        demog = sapply(strsplit( as.character(V3), \"[:]\"), '[', 2)) %>%\n",
    "select( patient = V1, ICD, demog, year = V4 ) %>%\n",
    "unique()"
   ]
  },
  {
   "cell_type": "code",
   "execution_count": null,
   "id": "c017ba8e",
   "metadata": {},
   "outputs": [],
   "source": [
    "head(icd_formatted)"
   ]
  },
  {
   "cell_type": "code",
   "execution_count": null,
   "id": "f461fdc4",
   "metadata": {},
   "outputs": [],
   "source": [
    "### estimate the frequency of each code per year\n",
    "counts <- icd_formatted %>%\n",
    "            dplyr::group_by( ICD, demog, year ) %>%\n",
    "            dplyr::summarize( n = n())\n",
    "\n",
    "head(counts)"
   ]
  },
  {
   "cell_type": "code",
   "execution_count": null,
   "id": "3b6e1e35",
   "metadata": {},
   "outputs": [],
   "source": [
    "totals <- icd_formatted %>%\n",
    "            dplyr::group_by( demog, year ) %>%\n",
    "            dplyr::summarize( total = n_distinct(patient))\n",
    "\n",
    "head(totals)"
   ]
  },
  {
   "cell_type": "code",
   "execution_count": null,
   "id": "b83147de",
   "metadata": {},
   "outputs": [],
   "source": [
    "frequencies <- counts %>%\n",
    "                    left_join( totals , by = c(\"demog\", \"year\")) %>%\n",
    "                    mutate( perc = round( n/total*100, 2)) \n",
    "\n",
    "head(frequencies)"
   ]
  },
  {
   "cell_type": "code",
   "execution_count": null,
   "id": "47b9f61b",
   "metadata": {},
   "outputs": [],
   "source": [
    "#### visualization as heatmap of frequencies \n",
    "hispanic <- frequencies %>%\n",
    "filter( demog == \"Y\")\n",
    "\n",
    "non_hispanic <- frequencies %>%\n",
    "filter( demog == \"N\")"
   ]
  },
  {
   "cell_type": "code",
   "execution_count": null,
   "id": "9c851c87",
   "metadata": {},
   "outputs": [],
   "source": [
    "ggplot(hispanic, aes(year, ICD, fill= perc)) + \n",
    "  geom_tile() +\n",
    "  geom_text(aes(label = perc)) +\n",
    "  scale_fill_gradient(low=\"white\", high=\"blue\") +\n",
    "  ggtitle(\"Hispanic: frequency of the codes over time\") \n",
    "\n",
    "ggplot(non_hispanic, aes(year, ICD, fill= perc)) + \n",
    "  geom_tile() +\n",
    "  geom_text(aes(label = perc)) +\n",
    "  scale_fill_gradient(low=\"white\", high=\"blue\") +\n",
    "  ggtitle(\"Non-hispanic: frequency of the codes over time\") \n"
   ]
  },
  {
   "cell_type": "code",
   "execution_count": null,
   "id": "5c45b5de",
   "metadata": {},
   "outputs": [],
   "source": [
    "#### same analysis but using as denominator total counts of patients with at least 1 ICD code\n",
    "#### SQL code to get this total number of patients\n",
    "\n",
    "#  SELECT A.PATIENT_NUM, C.HISPANIC_CD, year(A.START_DATE) AS YEAR_DIAG\n",
    "#  INTO #tblTotalICDs\n",
    "#  FROM FellowsSample.S11.observation_fact A\n",
    "#  INNER JOIN FellowsSample.S11.PATIENT_DIMENSION C\n",
    "#  On A.PATIENT_NUM = C.PATIENT_NUM\n",
    "#  WHERE A.CONCEPT_CD like 'ICD10CM:%'\n",
    "#  GROUP BY A.PATIENT_NUM, C.HISPANIC_CD, year(A.START_DATE);\n",
    "\n",
    "#  select count( distinct( PATIENT_NUM)) as totalPatients, YEAR_DIAG, HISPANIC_CD \n",
    "#  from #tblTotalICDs\n",
    "#  group by YEAR_DIAG, HISPANIC_CD; "
   ]
  },
  {
   "cell_type": "code",
   "execution_count": null,
   "id": "333d44f8",
   "metadata": {},
   "outputs": [],
   "source": [
    "totalCounts <- read.delim(\"totalPatientCounts_patientsWithAtleastOneICD.txt\") %>%\n",
    "                mutate( demog = sapply(strsplit( as.character(hispanic_cd), \"[:]\"), '[', 2)) %>%\n",
    "                select( total = totalP, year, demog )\n",
    "\n",
    "totalCounts"
   ]
  },
  {
   "cell_type": "code",
   "execution_count": null,
   "id": "0167efb1",
   "metadata": {},
   "outputs": [],
   "source": [
    "frequencies_alt <- counts %>%\n",
    "                    left_join( totalCounts , by = c(\"demog\", \"year\")) %>%\n",
    "                    mutate( perc = round( n/total*100, 3)) \n",
    "\n",
    "head(frequencies_alt)"
   ]
  },
  {
   "cell_type": "code",
   "execution_count": null,
   "id": "88c18cb7",
   "metadata": {},
   "outputs": [],
   "source": [
    "#### visualization as heatmap of frequencies \n",
    "hispanic_alt <- frequencies_alt %>%\n",
    "filter( demog == \"Y\")\n",
    "\n",
    "non_hispanic_alt <- frequencies_alt %>%\n",
    "filter( demog == \"N\")"
   ]
  },
  {
   "cell_type": "code",
   "execution_count": null,
   "id": "3cba3a47",
   "metadata": {},
   "outputs": [],
   "source": [
    "ggplot(hispanic_alt, aes(year, ICD, fill= perc)) + \n",
    "  geom_tile() +\n",
    "  geom_text(aes(label = perc)) +\n",
    "  scale_fill_gradient(low=\"white\", high=\"blue\") +\n",
    "  ggtitle(\"Hispanic: frequency of the codes over time with denominator updated\") \n",
    "\n",
    "ggplot(non_hispanic_alt, aes(year, ICD, fill= perc)) + \n",
    "  geom_tile() +\n",
    "  geom_text(aes(label = perc)) +\n",
    "  scale_fill_gradient(low=\"white\", high=\"blue\") +\n",
    "  ggtitle(\"Non-hispanic: frequency of the codes over time with denominator updated\") "
   ]
  }
 ],
 "metadata": {
  "kernelspec": {
   "display_name": "R",
   "language": "R",
   "name": "ir"
  },
  "language_info": {
   "codemirror_mode": "r",
   "file_extension": ".r",
   "mimetype": "text/x-r-source",
   "name": "R",
   "pygments_lexer": "r",
   "version": "4.2.3"
  }
 },
 "nbformat": 4,
 "nbformat_minor": 5
}
