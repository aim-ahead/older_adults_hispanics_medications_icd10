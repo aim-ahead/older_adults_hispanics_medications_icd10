{
 "cells": [
  {
   "cell_type": "code",
   "execution_count": null,
   "id": "0455a41e",
   "metadata": {},
   "outputs": [],
   "source": [
    "#import libraries\n",
    "import pandas as pd\n",
    "import matplotlib.pyplot as plt\n",
    "import numpy as np\n",
    "import seaborn as sns\n",
    "from itertools import combinations\n",
    "from scipy.stats import fisher_exact\n",
    "import statsmodels.stats.contingency_tables as ct"
   ]
  },
  {
   "cell_type": "code",
   "execution_count": null,
   "id": "20f649a3",
   "metadata": {},
   "outputs": [],
   "source": [
    "!pip install plotnine"
   ]
  },
  {
   "cell_type": "code",
   "execution_count": null,
   "id": "3afa46c8",
   "metadata": {},
   "outputs": [],
   "source": [
    "from plotnine import ggplot, aes, geom_tile, geom_text, scale_fill_gradient, ggtitle"
   ]
  },
  {
   "cell_type": "code",
   "execution_count": null,
   "id": "ffb591cb",
   "metadata": {},
   "outputs": [],
   "source": [
    "#read file TableObe65plus and assign to object\n",
    "icd = pd.read_csv('tblICD10.txt', dtype={0: str, 1: str, 2: str, 3: str, 4: str})"
   ]
  },
  {
   "cell_type": "code",
   "execution_count": null,
   "id": "0810f3fb",
   "metadata": {},
   "outputs": [],
   "source": [
    "print(icd.info())"
   ]
  },
  {
   "cell_type": "code",
   "execution_count": null,
   "id": "9b673a14",
   "metadata": {},
   "outputs": [],
   "source": [
    "pd.set_option('display.width', 1000)\n",
    "print(icd.head())"
   ]
  },
  {
   "cell_type": "code",
   "execution_count": null,
   "id": "adc9f52d",
   "metadata": {},
   "outputs": [],
   "source": [
    "#specify columns \n",
    "icd.columns = ['patient', 'ICD', 'Hispanic', 'year']"
   ]
  },
  {
   "cell_type": "code",
   "execution_count": null,
   "id": "b442737e",
   "metadata": {},
   "outputs": [],
   "source": [
    "print(icd.head())"
   ]
  },
  {
   "cell_type": "code",
   "execution_count": null,
   "id": "69e744e0",
   "metadata": {},
   "outputs": [],
   "source": [
    "#format the data\n",
    "icd['ICD'] = icd['ICD'].str.replace('.*:', '', regex=True)\n",
    "icd['ICD'] = icd['ICD'].str.replace('\\..*', '', regex=True)\n",
    "icd['Hispanic'] = icd['Hispanic'].str.replace('.*:', '', regex=True)"
   ]
  },
  {
   "cell_type": "code",
   "execution_count": null,
   "id": "e6a6be0b",
   "metadata": {},
   "outputs": [],
   "source": [
    "print(icd.head())"
   ]
  },
  {
   "cell_type": "markdown",
   "id": "e4cb85a0",
   "metadata": {},
   "source": [
    "## Hipanics network analysis"
   ]
  },
  {
   "cell_type": "code",
   "execution_count": null,
   "id": "2306342b",
   "metadata": {},
   "outputs": [],
   "source": [
    "#estimate number of patients with each code and with each pair of disorders to later build the network\n",
    "\n",
    "#1. estimate all the possible pairs of codes by selecting all the F codes\n",
    "\n",
    "from itertools import combinations\n",
    "\n",
    "fCodes = icd['ICD'].unique()\n",
    "\n",
    "fCodesPairs = pd.DataFrame(list(combinations(fCodes, 2))).T\n",
    "\n",
    "fCodesPairs = fCodesPairs.transpose()\n",
    "\n",
    "print(fCodesPairs.head())"
   ]
  },
  {
   "cell_type": "code",
   "execution_count": null,
   "id": "91668e6b",
   "metadata": {
    "scrolled": true
   },
   "outputs": [],
   "source": [
    "#create a subset of icd only for hispanics\n",
    "\n",
    "icd_hispanics = icd[icd['Hispanic'] == 'Y']\n",
    "print(icd_hispanics.head(10))"
   ]
  },
  {
   "cell_type": "code",
   "execution_count": null,
   "id": "711eafd4",
   "metadata": {},
   "outputs": [],
   "source": [
    "# create an empty data frame to save the results \n",
    "\n",
    "column_names = [\"disAcode\", \"disBcode\", \"disA\", \"disB\", \"AB\", \"AnotB\", \"BnotA\", \n",
    "                \"notAnotB\", \"fisher\", \"oddsRatio\", \"95%confidenceInterval\", \"relativeRisk\"]\n",
    "results = pd.DataFrame(columns=column_names)\n",
    "\n",
    "print(results.head())"
   ]
  },
  {
   "cell_type": "code",
   "execution_count": null,
   "id": "c204fe5a",
   "metadata": {},
   "outputs": [],
   "source": [
    "## create a data.frame with  pairs of diseases and different counts\n",
    "#\"disAcode\", \"disBcode\", \"disA\", \"disB\", \"AB\", \"AnotB\", \"BnotA\", \"notAnotB\", \"fisher\", \"oddsRatio\", \"95%CI\",\"RR\"\n",
    "\n",
    "from scipy.stats import fisher_exact\n",
    "import statsmodels.stats.contingency_tables as ct\n",
    "\n",
    "results = pd.DataFrame(columns=[\"disAcode\", \"disBcode\", \"disA\", \"disB\", \"AB\", \n",
    "                                \"AnotB\", \"BnotA\", \"notAnotB\", \"fisher\", \"oddsRatio\", \"95%confidenceInterval\", \"relativeRisk\"])\n",
    "\n",
    "for i in range(fCodesPairs.shape[0]):\n",
    "    code1 = fCodesPairs.iloc[i, 0]\n",
    "    code2 = fCodesPairs.iloc[i, 1]\n",
    "    \n",
    "    dis1 = icd_hispanics[icd_hispanics['ICD'] == code1]\n",
    "    dis2 = icd_hispanics[icd_hispanics['ICD'] == code2]\n",
    "    \n",
    "    dis12 = dis2[dis2['patient'].isin(dis1['patient'])]\n",
    "    \n",
    "    disAcode = code1\n",
    "    disBcode = code2\n",
    "    disA = len(dis1['patient'].unique())\n",
    "    disB = len(dis2['patient'].unique())\n",
    "    AB = len(dis12['patient'].unique())\n",
    "    AnotB = disA - AB\n",
    "    BnotA = disB - AB\n",
    "    notAB = len(icd_hispanics['patient'].unique()) - AB - AnotB - BnotA\n",
    "    \n",
    "    mm = [[AB, AnotB], [BnotA, notAB]]\n",
    "\n",
    "    try:\n",
    "        _, p_value = fisher_exact(mm)\n",
    "        ci_lower, ci_upper = ct.Table2x2(mm).oddsratio_confint()\n",
    "        \n",
    "    except Exception as e:\n",
    "        print(str(e))\n",
    "        print(\"code1:\", code1, \"- code2:\", code2)\n",
    "\n",
    "    conf_interval = f\"({round(ci_lower, 3)}, {round(ci_upper, 3)})\"\n",
    "    relativeRisk = (float(AB) * len(icd_hispanics['patient'].unique())) / (float(disA) * float(disB))\n",
    "    oddsRatio = (float(AB) * float(notAB)) / (float(AnotB) * float(BnotA))\n",
    "    \n",
    "    results.loc[i] = [disAcode, disBcode, disA, disB, AB, AnotB, BnotA,\n",
    "                      notAB, p_value, oddsRatio, conf_interval, relativeRisk]\n"
   ]
  },
  {
   "cell_type": "code",
   "execution_count": null,
   "id": "9678b0f9",
   "metadata": {},
   "outputs": [],
   "source": [
    "print(results.head())"
   ]
  },
  {
   "cell_type": "code",
   "execution_count": null,
   "id": "78de6862",
   "metadata": {},
   "outputs": [],
   "source": [
    "# correct for multiple testing and add the comorbidity score estimation \n",
    "\n",
    "results['expect'] = (results['disA'].astype(float) * results['disB'].astype(float)) / len(icd_hispanics['patient'].unique())\n",
    "results['score'] = np.log2((results['AB'].astype(float) + 1) / (results['expect'] + 1))\n",
    "results = results.sort_values(by='fisher')\n",
    "\n",
    "def p_adjust(p_values, method='bonferroni', n=1):\n",
    "    if method == 'bonferroni':\n",
    "        return np.minimum(p_values * n, 1)\n",
    "     \n",
    "    return p_values\n",
    "\n",
    "results['correctedPvalue'] = pd.Series(p_adjust(results['fisher'].astype(float), method='bonferroni', n=results.shape[0]))\n",
    "\n",
    "pd.set_option('display.width', 100)\n",
    "\n",
    "print(results.head())"
   ]
  },
  {
   "cell_type": "code",
   "execution_count": null,
   "id": "23336917",
   "metadata": {},
   "outputs": [],
   "source": [
    "#save results to a file\n",
    "results.to_csv('comorbidityNetworkTable_Hispanic.csv', index=True, header=True)"
   ]
  },
  {
   "cell_type": "code",
   "execution_count": null,
   "id": "079099ef",
   "metadata": {},
   "outputs": [],
   "source": [
    "!pip install python-igraph"
   ]
  },
  {
   "cell_type": "code",
   "execution_count": null,
   "id": "ce41c72b",
   "metadata": {},
   "outputs": [],
   "source": [
    "!pip install cairocffi"
   ]
  },
  {
   "cell_type": "code",
   "execution_count": null,
   "id": "075e46ba",
   "metadata": {},
   "outputs": [],
   "source": [
    "import igraph\n",
    "#comorbidity network analysis visualization\n",
    "\n",
    "edges = pd.DataFrame({'disAcode': results['disAcode'], 'disBcode': results['disBcode']})\n",
    "\n",
    "netw = igraph.Graph.TupleList(edges.itertuples(index=False), directed=False)\n",
    "netw = netw.simplify()\n",
    "lay = netw.layout_circle()\n",
    "\n",
    "disPrev1 = results[[\"disAcode\", \"disA\"]]\n",
    "disPrev1.columns = [\"dis\", \"patients\"]\n",
    "\n",
    "disPrev2 = results[[\"disBcode\", \"disB\"]]\n",
    "disPrev2.columns = [\"dis\", \"patients\"]\n",
    "\n",
    "disPrev = pd.concat([disPrev1, disPrev2])\n",
    "disPrev = disPrev[~disPrev.duplicated(subset=\"dis\")]\n",
    "\n",
    "disPrev[\"prevalence\"] = (disPrev[\"patients\"].astype(float) / len(icd_hispanics[\"patient\"].unique())) * 100\n",
    "\n",
    "#print(disPrev.head())\n",
    "disPrev"
   ]
  },
  {
   "cell_type": "code",
   "execution_count": null,
   "id": "bcfe5d83",
   "metadata": {},
   "outputs": [],
   "source": [
    "# Creating the edges DataFrame\n",
    "edges = pd.DataFrame({'disAcode': results['disAcode'], 'disBcode': results['disBcode']})\n",
    "\n",
    "# Creating the Graph object\n",
    "netw = igraph.Graph.TupleList(edges.itertuples(index=False), directed=False)\n",
    "\n",
    "# Simplifying the graph\n",
    "netw = netw.simplify()\n",
    "\n",
    "# Layout\n",
    "lay = netw.layout_circle()\n",
    "\n",
    "# Creating disPrev DataFrame\n",
    "disPrev1 = results[['disAcode', 'disA']]\n",
    "disPrev1.columns = ['dis', 'patients']\n",
    "\n",
    "disPrev2 = results[['disBcode', 'disB']]\n",
    "disPrev2.columns = ['dis', 'patients']\n",
    "\n",
    "disPrev = pd.concat([disPrev1, disPrev2])\n",
    "disPrev = disPrev[~disPrev.duplicated(subset='dis')]\n",
    "\n",
    "# Prevalence calculation\n",
    "disPrev['prevalence'] = (disPrev['patients'].astype(float) / len(icd_hispanics['patient'].unique())) * 100\n",
    "\n",
    "# Assigning sizes\n",
    "sizes = disPrev['prevalence'].astype(float)\n",
    "\n",
    "# Assigning names as vertex labels\n",
    "netw.vs['name'] = list(disPrev['dis'])\n",
    "\n",
    "# Printing information about the network\n",
    "print(\"The network contains\", netw.vcount(), \"nodes and\", netw.ecount(), \"edges.\")\n",
    "\n",
    "# Plotting the network\n",
    "plt.figure(figsize=(8, 8))\n",
    "plt.axis('off')\n",
    "plt.title('Comorbidity Network: Hispanics')\n",
    "\n",
    "# Convert lay to a NumPy array\n",
    "lay = np.array([list(coord) for coord in lay])\n",
    "\n",
    "# Scatter plot\n",
    "plt.scatter(lay[:, 0], lay[:, 1], c='lightblue', edgecolors='blue', alpha=0.7, s=sizes * 25)\n",
    "\n",
    "# Add node labels\n",
    "for i, name in enumerate(netw.vs['name']):\n",
    "    plt.text(lay[i, 0], lay[i, 1], name, color='black', fontsize=10, ha='center', va='center')\n",
    "\n",
    "# Plot edges\n",
    "for edge in netw.es:\n",
    "    start = edge.source\n",
    "    end = edge.target\n",
    "    plt.plot([lay[start, 0], lay[end, 0]], [lay[start, 1], lay[end, 1]], color='darkgrey', linewidth=results.at[edge.index, 'relativeRisk'])\n",
    "\n",
    "plt.show()"
   ]
  },
  {
   "cell_type": "markdown",
   "id": "c0591594",
   "metadata": {},
   "source": [
    "## Non hipanics network analysis"
   ]
  },
  {
   "cell_type": "code",
   "execution_count": null,
   "id": "a381bac0",
   "metadata": {
    "scrolled": true
   },
   "outputs": [],
   "source": [
    "#create a subset of icd only for non hispanics\n",
    "\n",
    "icd_non_hispanics = icd[icd['Hispanic'] == 'N']\n",
    "print(icd_non_hispanics.head(10))"
   ]
  },
  {
   "cell_type": "code",
   "execution_count": null,
   "id": "03a06ca6",
   "metadata": {},
   "outputs": [],
   "source": [
    "# create an empty data frame to save the results \n",
    "\n",
    "column_names = [\"disAcode\", \"disBcode\", \"disA\", \"disB\", \"AB\", \"AnotB\", \"BnotA\", \n",
    "                \"notAnotB\", \"fisher\", \"oddsRatio\", \"95%confidenceInterval\", \"relativeRisk\"]\n",
    "results2 = pd.DataFrame(columns=column_names)\n",
    "\n",
    "print(results2.head())"
   ]
  },
  {
   "cell_type": "code",
   "execution_count": null,
   "id": "648d0f13",
   "metadata": {},
   "outputs": [],
   "source": [
    "## create a data frame with  pairs of diseases and different counts\n",
    "#\"disAcode\", \"disBcode\", \"disA\", \"disB\", \"AB\", \"AnotB\", \"BnotA\", \"notAnotB\", \"fisher\", \"oddsRatio\", \"95%CI\",\"RR\"\n",
    "\n",
    "results2 = pd.DataFrame(columns=[\"disAcode\", \"disBcode\", \"disA\", \"disB\", \"AB\", \n",
    "                                \"AnotB\", \"BnotA\", \"notAnotB\", \"fisher\", \"oddsRatio\", \"95%confidenceInterval\", \"relativeRisk\"])\n",
    "\n",
    "for i in range(fCodesPairs.shape[0]):\n",
    "    code1 = fCodesPairs.iloc[i, 0]\n",
    "    code2 = fCodesPairs.iloc[i, 1]\n",
    "    \n",
    "    dis1 = icd_non_hispanics[icd_non_hispanics['ICD'] == code1]\n",
    "    dis2 = icd_non_hispanics[icd_non_hispanics['ICD'] == code2]\n",
    "    \n",
    "    dis12 = dis2[dis2['patient'].isin(dis1['patient'])]\n",
    "    \n",
    "    disAcode = code1\n",
    "    disBcode = code2\n",
    "    disA = len(dis1['patient'].unique())\n",
    "    disB = len(dis2['patient'].unique())\n",
    "    AB = len(dis12['patient'].unique())\n",
    "    AnotB = disA - AB\n",
    "    BnotA = disB - AB\n",
    "    notAB = len(icd_non_hispanics['patient'].unique()) - AB - AnotB - BnotA\n",
    "    \n",
    "    mm = [[AB, AnotB], [BnotA, notAB]]\n",
    "    try:\n",
    "        _, p_value = fisher_exact(mm)\n",
    "        ci_lower, ci_upper = ct.Table2x2(mm).oddsratio_confint()\n",
    "        \n",
    "    except Exception as e:\n",
    "        print(str(e))\n",
    "        print(\"code1:\", code1, \"- code2:\", code2)\n",
    "\n",
    "    conf_interval = f\"({round(ci_lower, 3)}, {round(ci_upper, 3)})\"\n",
    "    relativeRisk = (float(AB) * len(icd_non_hispanics['patient'].unique())) / (float(disA) * float(disB))\n",
    "    oddsRatio = (float(AB) * float(notAB)) / (float(AnotB) * float(BnotA))\n",
    "    \n",
    "    results2.loc[i] = [disAcode, disBcode, disA, disB, AB, AnotB, BnotA, \n",
    "                         notAB, p_value, oddsRatio, conf_interval, relativeRisk]\n"
   ]
  },
  {
   "cell_type": "code",
   "execution_count": null,
   "id": "ad1e5290",
   "metadata": {},
   "outputs": [],
   "source": [
    "print(results2.head())"
   ]
  },
  {
   "cell_type": "code",
   "execution_count": null,
   "id": "bd31cdab",
   "metadata": {},
   "outputs": [],
   "source": [
    "# correct for multiple testing and add the comorbidity score estimation \n",
    "\n",
    "results2['expect'] = (results2['disA'].astype(float) * results2['disB'].astype(float)) / len(icd_hispanics['patient'].unique())\n",
    "results2['score'] = np.log2((results2['AB'].astype(float) + 1) / (results2['expect'] + 1))\n",
    "results2 = results2.sort_values(by='fisher')\n",
    "\n",
    "def p_adjust(p_values, method='bonferroni', n=1):\n",
    "    if method == 'bonferroni':\n",
    "        return np.minimum(p_values * n, 1)\n",
    "     \n",
    "    return p_values\n",
    "\n",
    "results2['correctedPvalue'] = pd.Series(p_adjust(results2['fisher'].astype(float), method='bonferroni', n=results2.shape[0]))\n",
    "\n",
    "pd.set_option('display.width', 100)\n",
    "\n",
    "print(results2.head())\n"
   ]
  },
  {
   "cell_type": "code",
   "execution_count": null,
   "id": "b4949cdb",
   "metadata": {},
   "outputs": [],
   "source": [
    "#save results to a file\n",
    "results2.to_csv('comorbidityNetworkTable_NonHispanic.csv', index=True, header=True)"
   ]
  },
  {
   "cell_type": "code",
   "execution_count": null,
   "id": "818c876e",
   "metadata": {},
   "outputs": [],
   "source": [
    "#comorbidity network analysis visualization\n",
    "\n",
    "edges = pd.DataFrame({'disAcode': results2['disAcode'], 'disBcode': results2['disBcode']})\n",
    "netw = igraph.Graph.TupleList(edges.itertuples(index=False), directed=False)\n",
    "netw = netw.simplify()\n",
    "lay = netw.layout_circle()\n",
    "\n",
    "disPrev1 = results2[[\"disAcode\", \"disA\"]]\n",
    "disPrev1.columns = [\"dis\", \"patients\"]\n",
    "\n",
    "disPrev2 = results2[[\"disBcode\", \"disB\"]]\n",
    "disPrev2.columns = [\"dis\", \"patients\"]\n",
    "\n",
    "disPrev = pd.concat([disPrev1, disPrev2])\n",
    "disPrev = disPrev[~disPrev.duplicated(subset=\"dis\")]\n",
    "\n",
    "disPrev[\"prevalence\"] = (disPrev[\"patients\"].astype(float) / len(icd_non_hispanics[\"patient\"].unique())) * 100\n",
    "\n",
    "disPrev"
   ]
  },
  {
   "cell_type": "code",
   "execution_count": null,
   "id": "85bf4a3d",
   "metadata": {},
   "outputs": [],
   "source": [
    "# Creating the edges DataFrame\n",
    "edges = pd.DataFrame({'disAcode': results['disAcode'], 'disBcode': results['disBcode']})\n",
    "\n",
    "# Creating the Graph object\n",
    "netw = igraph.Graph.TupleList(edges.itertuples(index=False), directed=False)\n",
    "\n",
    "# Simplifying the graph\n",
    "netw = netw.simplify()\n",
    "\n",
    "# Layout\n",
    "lay = netw.layout_circle()\n",
    "\n",
    "# Creating disPrev DataFrame\n",
    "disPrev1 = results2[['disAcode', 'disA']]\n",
    "disPrev1.columns = ['dis', 'patients']\n",
    "\n",
    "disPrev2 = results2[['disBcode', 'disB']]\n",
    "disPrev2.columns = ['dis', 'patients']\n",
    "\n",
    "disPrev = pd.concat([disPrev1, disPrev2])\n",
    "disPrev = disPrev[~disPrev.duplicated(subset='dis')]\n",
    "\n",
    "# Prevalence calculation\n",
    "disPrev['prevalence'] = (disPrev['patients'].astype(float) / len(icd_non_hispanics['patient'].unique())) * 100\n",
    "\n",
    "# Assigning sizes\n",
    "sizes2 = disPrev['prevalence'].astype(float)\n",
    "\n",
    "# Assigning names as vertex labels\n",
    "netw.vs['name'] = list(disPrev['dis'])\n",
    "\n",
    "# Printing information about the network\n",
    "print(\"The network contains\", netw.vcount(), \"nodes and\", netw.ecount(), \"edges.\")\n",
    "\n",
    "# Plotting the network\n",
    "plt.figure(figsize=(8, 8))\n",
    "plt.axis('off')\n",
    "plt.title('Comorbidity Network: Non Hispanics')\n",
    "\n",
    "# Convert lay to a NumPy array\n",
    "lay = np.array([list(coord) for coord in lay])\n",
    "\n",
    "# Scatter plot\n",
    "plt.scatter(lay[:, 0], lay[:, 1], c='lightblue', edgecolors='blue', alpha=0.7, s=sizes2 * 25)\n",
    "\n",
    "# Add node labels\n",
    "for i, name in enumerate(netw.vs['name']):\n",
    "    plt.text(lay[i, 0], lay[i, 1], name, color='black', fontsize=10, ha='center', va='center')\n",
    "\n",
    "# Plot edges\n",
    "for edge in netw.es:\n",
    "    start = edge.source\n",
    "    end = edge.target\n",
    "    plt.plot([lay[start, 0], lay[end, 0]], [lay[start, 1], lay[end, 1]], color='darkgrey', linewidth=results2.at[edge.index, 'relativeRisk'])\n",
    "\n",
    "plt.show()"
   ]
  },
  {
   "cell_type": "code",
   "execution_count": null,
   "id": "0e530c9c",
   "metadata": {},
   "outputs": [],
   "source": []
  }
 ],
 "metadata": {
  "kernelspec": {
   "display_name": "conda_python3",
   "language": "python",
   "name": "conda_python3"
  },
  "language_info": {
   "codemirror_mode": {
    "name": "ipython",
    "version": 3
   },
   "file_extension": ".py",
   "mimetype": "text/x-python",
   "name": "python",
   "nbconvert_exporter": "python",
   "pygments_lexer": "ipython3",
   "version": "3.10.12"
  }
 },
 "nbformat": 4,
 "nbformat_minor": 5
}
