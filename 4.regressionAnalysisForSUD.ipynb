{
 "cells": [
  {
   "cell_type": "markdown",
   "id": "64ad961d",
   "metadata": {},
   "source": [
    "# Load libraries"
   ]
  },
  {
   "cell_type": "code",
   "execution_count": null,
   "id": "7984008b",
   "metadata": {},
   "outputs": [],
   "source": [
    "rm(list=ls())\n",
    "#### Packages installation\n",
    "library(dplyr)\n",
    "library(tidyverse)"
   ]
  },
  {
   "cell_type": "markdown",
   "id": "bf2ddfdd",
   "metadata": {},
   "source": [
    "# Read the input data\n",
    "This input data set contains the 356,133 patients that met the inclusion criteria for our study. \n",
    "It contains one patient per row, and in the columns, it contains the main demographic information, followed by the SUD, marked as 1 when the patient had at least 1 ICD code for the category, and 0 when the patient had no ICD code in that category in the study period. "
   ]
  },
  {
   "cell_type": "code",
   "execution_count": null,
   "id": "77644200",
   "metadata": {},
   "outputs": [],
   "source": [
    "### Read input data\n",
    "dataForRegression <- read.delim(\"demographic_icd_ML_aditional_f_column.txt\", sep=\",\", header = TRUE) \n",
    "dim(dataForRegression)\n",
    "#head(dataForRegression)\n"
   ]
  },
  {
   "cell_type": "markdown",
   "id": "99df16ce",
   "metadata": {},
   "source": [
    "## Reformat the data for the model\n",
    "We reformat the data, to present:\n",
    "- Hispanic and Sex as 0-1\n",
    "- Age as numeric\n",
    "- FPL as character\n",
    "\n",
    "We also rename the columns from th F codes to the actual names. "
   ]
  },
  {
   "cell_type": "code",
   "execution_count": null,
   "id": "758ded28",
   "metadata": {},
   "outputs": [],
   "source": [
    "dataForRegression <- dataForRegression %>%\n",
    "            dplyr::mutate( Hispanic = ifelse( Hispanic ==\"Y\", 1, 0), \n",
    "                           Sex = ifelse( Sex ==\"M\", 1, 0), \n",
    "                           Age = as.numeric( Age ), \n",
    "                           FPL = as.character(FPL )) %>%\n",
    "            dplyr::select( -X, -Race, -M_Status, -State, -predicted_f_code  )\n",
    "\n",
    "colnames( dataForRegression )[7:16] <- c(\"Alcohol\",\"Opioid\",\"Cannabis\",\"Sedative_hypnoti_anxiolytic\",\"Cocaine\",\n",
    "\"OtherStimulant\",\"Hallucinogen\",\"NicotineDependence\",\"Inhalant\",\"Other_psychoactive_substance\")\n",
    "\n",
    "#head(dataForRegression)\n"
   ]
  },
  {
   "cell_type": "markdown",
   "id": "d67217e9",
   "metadata": {},
   "source": [
    "## Regression analysis\n",
    "We do a for loop that allow us to do a regression analysis for each of the SUDs. \n",
    "We use the formula: **sud ~ Sex + Age + Hispanic + FPL + Lang**"
   ]
  },
  {
   "cell_type": "code",
   "execution_count": null,
   "id": "62f7082c",
   "metadata": {},
   "outputs": [],
   "source": [
    "# List of SUDs\n",
    "sud_list <- c(\"Alcohol\",\"Opioid\",\"Cannabis\",\"Sedative_hypnoti_anxiolytic\",\"Cocaine\",\n",
    "\"OtherStimulant\",\"Hallucinogen\",\"NicotineDependence\",\"Inhalant\",\"Other_psychoactive_substance\") \n",
    "\n",
    "# Loop through each SUD\n",
    "for (sud in sud_list) {\n",
    "  print(sud)\n",
    "  formula <- as.formula(paste(sud, \"~ Sex + Age + Hispanic + FPL + Lang\"))\n",
    "  model <- glm(formula, data = dataForRegression, family = binomial)\n",
    "  print( summary(model))\n",
    "  print(\"####\")\n",
    "}\n"
   ]
  },
  {
   "cell_type": "markdown",
   "id": "7f23793d",
   "metadata": {},
   "source": [
    "We have really low number of patients with Hallucinogen and Inhalant, that's why the model does not converge.  \n",
    "We check below the number of cases and controls for each SUD. "
   ]
  },
  {
   "cell_type": "code",
   "execution_count": null,
   "id": "efb0718e",
   "metadata": {},
   "outputs": [],
   "source": [
    "summary(as.factor( dataForRegression$Alcohol ))\n",
    "summary(as.factor( dataForRegression$Opioid ))\n",
    "summary(as.factor( dataForRegression$Cannabis ))\n",
    "summary(as.factor( dataForRegression$Sedative_hypnoti_anxiolytic ))\n",
    "summary(as.factor( dataForRegression$Cocaine ))\n",
    "summary(as.factor( dataForRegression$OtherStimulant ))\n",
    "summary(as.factor( dataForRegression$Hallucinogen ))\n",
    "summary(as.factor( dataForRegression$NicotineDependence ))\n",
    "summary(as.factor( dataForRegression$Inhalant ))\n",
    "summary(as.factor( dataForRegression$Other_psychoactive_substance ))\n"
   ]
  },
  {
   "cell_type": "markdown",
   "id": "3cdf9568",
   "metadata": {},
   "source": [
    "## Save the results in a table\n",
    "We extract from each regression, the p-values and coefficients, and estimate the odds ratio and adjusted p-values. "
   ]
  },
  {
   "cell_type": "code",
   "execution_count": null,
   "id": "843c1da0",
   "metadata": {},
   "outputs": [],
   "source": [
    "# save results in a data.frame\n",
    "\n",
    "# Create an empty list to store results\n",
    "results_list <- list()\n",
    "\n",
    "# Loop through each SUD\n",
    "for (sud in sud_list) {\n",
    "  formula <- as.formula(paste(sud, \"~ Sex + Age + Hispanic + FPL + Lang\"))\n",
    "  model <- glm(formula, data = dataForRegression, family = binomial)\n",
    "  results <- summary(model)\n",
    "  \n",
    "  # Extract relevant information from summary\n",
    "  coefficients <- round(coef(results), 3)\n",
    "  p_values <- round(coef(summary(model))[, \"Pr(>|z|)\"], 3)\n",
    "  \n",
    "  # Apply multiple testing correction (Benjamini-Hochberg)\n",
    "  adjusted_p_values <- p.adjust(p_values, method = \"BH\")\n",
    "  \n",
    "  # Combine results into a data frame\n",
    "  result_df <- data.frame(\n",
    "    Predictor = rownames(coefficients),\n",
    "    Coefficient = coefficients,\n",
    "    Odds_Ratio = round(exp(coefficients),3),\n",
    "    P_value = p_values, \n",
    "    Adjusted_P_Value = round(adjusted_p_values,3),\n",
    "    stringsAsFactors = FALSE\n",
    "  )\n",
    "  \n",
    "  # Add result_df to the results_list\n",
    "  results_list[[sud]] <- result_df\n",
    "}\n",
    "\n",
    "# Combine results for all SUDs into one data frame\n",
    "all_results_df <- do.call(rbind, results_list)\n",
    "\n",
    "write.csv(all_results_df, file = \"./regression_analysis_results_fullPopulation.csv\", row.names = FALSE)\n",
    "\n"
   ]
  },
  {
   "cell_type": "markdown",
   "id": "b5c31677",
   "metadata": {},
   "source": [
    "## Regression analysis for the hispanic subpopulation"
   ]
  },
  {
   "cell_type": "code",
   "execution_count": null,
   "id": "040f3a55",
   "metadata": {},
   "outputs": [],
   "source": [
    "dataForRegressionHispanic <- dataForRegression %>%\n",
    "            dplyr::filter(Hispanic == 1 )"
   ]
  },
  {
   "cell_type": "code",
   "execution_count": null,
   "id": "ca75f780",
   "metadata": {},
   "outputs": [],
   "source": [
    "# Loop through each SUD\n",
    "for (sud in sud_list) {\n",
    "  print(sud)\n",
    "  formula <- as.formula(paste(sud, \"~ Sex + Age + + FPL + Lang\"))\n",
    "  model <- glm(formula, data = dataForRegressionHispanic, family = binomial)\n",
    "  print( summary(model))\n",
    "  print(\"####\")\n",
    "}"
   ]
  },
  {
   "cell_type": "code",
   "execution_count": null,
   "id": "8438a185",
   "metadata": {},
   "outputs": [],
   "source": [
    "# save results in a data.frame\n",
    "rm(results_list)\n",
    "# Create an empty list to store results\n",
    "results_list <- list()\n",
    "\n",
    "# Loop through each SUD\n",
    "for (sud in sud_list) {\n",
    "  formula <- as.formula(paste(sud, \"~ Sex + Age + FPL + Lang\"))\n",
    "  model <- glm(formula, data = dataForRegressionHispanic, family = binomial)\n",
    "  results <- summary(model)\n",
    "  \n",
    "  # Extract relevant information from summary\n",
    "  coefficients <- round(coef(results), 3)\n",
    "  p_values <- round(coef(summary(model))[, \"Pr(>|z|)\"], 3)\n",
    "  \n",
    "  # Apply multiple testing correction (Benjamini-Hochberg)\n",
    "  adjusted_p_values <- p.adjust(p_values, method = \"BH\")\n",
    "  \n",
    "  # Combine results into a data frame\n",
    "  result_df <- data.frame(\n",
    "    Predictor = rownames(coefficients),\n",
    "    Coefficient = coefficients,\n",
    "    Odds_Ratio = round(exp(coefficients),3),\n",
    "    P_value = p_values, \n",
    "    Adjusted_P_Value = round(adjusted_p_values,3),\n",
    "    stringsAsFactors = FALSE\n",
    "  )\n",
    "  \n",
    "  # Add result_df to the results_list\n",
    "  results_list[[sud]] <- result_df\n",
    "}\n",
    "\n",
    "# Combine results for all SUDs into one data frame\n",
    "hispanic_results_df <- do.call(rbind, results_list)\n",
    "\n",
    "write.csv(hispanic_results_df, file = \"./regression_analysis_results_hispanicPopulation.csv\", row.names = FALSE)"
   ]
  },
  {
   "cell_type": "markdown",
   "id": "ec870245",
   "metadata": {},
   "source": [
    "## Regression analysis for the non-hispanic subpopulation"
   ]
  },
  {
   "cell_type": "code",
   "execution_count": null,
   "id": "49a2ac8d",
   "metadata": {},
   "outputs": [],
   "source": [
    "dataForRegressionNoHispanic <- dataForRegression %>%\n",
    "            dplyr::filter(Hispanic == 0 )"
   ]
  },
  {
   "cell_type": "code",
   "execution_count": null,
   "id": "585e4ae5",
   "metadata": {},
   "outputs": [],
   "source": [
    "for (sud in sud_list) {\n",
    "  print(sud)\n",
    "  formula <- as.formula(paste(sud, \"~ Sex + Age + + FPL + Lang\"))\n",
    "  model <- glm(formula, data = dataForRegressionNoHispanic, family = binomial)\n",
    "  print( summary(model))\n",
    "  print(\"####\")\n",
    "}"
   ]
  },
  {
   "cell_type": "code",
   "execution_count": null,
   "id": "0182024e",
   "metadata": {},
   "outputs": [],
   "source": [
    "# save results in a data.frame\n",
    "rm(results_list)\n",
    "# Create an empty list to store results\n",
    "results_list <- list()\n",
    "\n",
    "# Loop through each SUD\n",
    "for (sud in sud_list) {\n",
    "  formula <- as.formula(paste(sud, \"~ Sex + Age + FPL + Lang\"))\n",
    "  model <- glm(formula, data = dataForRegressionNoHispanic, family = binomial)\n",
    "  results <- summary(model)\n",
    "  \n",
    "  # Extract relevant information from summary\n",
    "  coefficients <- round(coef(results), 3)\n",
    "  p_values <- round(coef(summary(model))[, \"Pr(>|z|)\"], 3)\n",
    "  \n",
    "  # Apply multiple testing correction (Benjamini-Hochberg)\n",
    "  adjusted_p_values <- p.adjust(p_values, method = \"BH\")\n",
    "  \n",
    "  # Combine results into a data frame\n",
    "  result_df <- data.frame(\n",
    "    Predictor = rownames(coefficients),\n",
    "    Coefficient = coefficients,\n",
    "    Odds_Ratio = round(exp(coefficients),3),\n",
    "    P_value = p_values, \n",
    "    Adjusted_P_Value = round(adjusted_p_values,3),\n",
    "    stringsAsFactors = FALSE\n",
    "  )\n",
    "  \n",
    "  # Add result_df to the results_list\n",
    "  results_list[[sud]] <- result_df\n",
    "}\n",
    "\n",
    "# Combine results for all SUDs into one data frame\n",
    "non_hispanic_results_df <- do.call(rbind, results_list)\n",
    "\n",
    "write.csv(non_hispanic_results_df, file = \"./regression_analysis_results_non_hispanicPopulation.csv\", row.names = FALSE)"
   ]
  },
  {
   "cell_type": "code",
   "execution_count": null,
   "id": "79ada805",
   "metadata": {},
   "outputs": [],
   "source": [
    "sessionInfo()"
   ]
  }
 ],
 "metadata": {
  "kernelspec": {
   "display_name": "R",
   "language": "R",
   "name": "ir"
  },
  "language_info": {
   "codemirror_mode": "r",
   "file_extension": ".r",
   "mimetype": "text/x-r-source",
   "name": "R",
   "pygments_lexer": "r",
   "version": "4.3.3"
  }
 },
 "nbformat": 4,
 "nbformat_minor": 5
}
