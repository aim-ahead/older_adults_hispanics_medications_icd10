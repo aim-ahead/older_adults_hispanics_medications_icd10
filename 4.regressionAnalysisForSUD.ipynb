{
 "cells": [
  {
   "cell_type": "code",
   "execution_count": null,
   "id": "7984008b",
   "metadata": {},
   "outputs": [],
   "source": [
    "rm(list=ls())\n",
    "#### Packages installation\n",
    "library(dplyr)\n",
    "library(tidyverse)"
   ]
  },
  {
   "cell_type": "code",
   "execution_count": null,
   "id": "77644200",
   "metadata": {},
   "outputs": [],
   "source": [
    "### Double check the notebook 0, section New version- Nov 22 2023\n",
    "### Not sure why the number of patient ID does not match, but that's the table we need\n",
    "dataForRegression <- read.delim(\"demographic_icd_jha.txt\", sep=\",\", header = TRUE) \n",
    "#head(dataForRegression)\n"
   ]
  },
  {
   "cell_type": "code",
   "execution_count": null,
   "id": "758ded28",
   "metadata": {},
   "outputs": [],
   "source": [
    "dataForRegression <- dataForRegression %>%\n",
    "            dplyr::mutate( Hispanic = ifelse( Hispanic ==\"Y\", 1, 0), \n",
    "                           Sex = ifelse( Sex ==\"M\", 1, 0), \n",
    "                           Age = as.numeric( Age ), \n",
    "                           FPL = as.character(FPL )) %>%\n",
    "            dplyr::select( -X, -Race, -M_Status, -State  )\n",
    "\n",
    "#head(dataForRegression)\n"
   ]
  },
  {
   "cell_type": "code",
   "execution_count": null,
   "id": "21bf0b31",
   "metadata": {},
   "outputs": [],
   "source": [
    "colnames( dataForRegression )[7:16] <- c(\"Alcohol\",\"Opioid\",\"Cannabis\",\"Sedative_hypnoti_anxiolytic\",\"Cocaine\",\n",
    "\"OtherStimulant\",\"Hallucinogen\",\"NicotineDependence\",\"Inhalant\",\"Other_psychoactive_substance\")\n",
    "\n",
    "#head(dataForRegression)\n",
    "\n"
   ]
  },
  {
   "cell_type": "code",
   "execution_count": null,
   "id": "62f7082c",
   "metadata": {},
   "outputs": [],
   "source": [
    "# List of SUDs\n",
    "sud_list <- c(\"Alcohol\",\"Opioid\",\"Cannabis\",\"Sedative_hypnoti_anxiolytic\",\"Cocaine\",\n",
    "\"OtherStimulant\",\"Hallucinogen\",\"NicotineDependence\",\"Inhalant\",\"Other_psychoactive_substance\") \n",
    "\n",
    "# Loop through each SUD\n",
    "for (sud in sud_list) {\n",
    "  print(sud)\n",
    "  formula <- as.formula(paste(sud, \"~ Sex + Age + Hispanic + FPL + Lang\"))\n",
    "  model <- glm(formula, data = dataForRegression, family = binomial)\n",
    "  print( summary(model))\n",
    "  print(\"####\")\n",
    "}\n"
   ]
  },
  {
   "cell_type": "code",
   "execution_count": null,
   "id": "843c1da0",
   "metadata": {},
   "outputs": [],
   "source": [
    "# save results in a data.frame\n",
    "\n",
    "# Create an empty list to store results\n",
    "results_list <- list()\n",
    "\n",
    "# Loop through each SUD\n",
    "for (sud in sud_list) {\n",
    "  formula <- as.formula(paste(sud, \"~ Sex + Age + Hispanic + FPL + Lang\"))\n",
    "  model <- glm(formula, data = dataForRegression, family = binomial)\n",
    "  results <- summary(model)\n",
    "  \n",
    "  # Extract relevant information from summary\n",
    "  coefficients <- round(coef(results), 3)\n",
    "  p_values <- round(coef(summary(model))[, \"Pr(>|z|)\"], 3)\n",
    "  \n",
    "  # Apply multiple testing correction (Benjamini-Hochberg)\n",
    "  adjusted_p_values <- p.adjust(p_values, method = \"BH\")\n",
    "  \n",
    "  # Combine results into a data frame\n",
    "  result_df <- data.frame(\n",
    "    Predictor = rownames(coefficients),\n",
    "    Coefficient = coefficients,\n",
    "    Odds_Ratio = round(exp(coefficients),3),\n",
    "    Adjusted_P_Value = round(adjusted_p_values,3),\n",
    "    stringsAsFactors = FALSE\n",
    "  )\n",
    "  \n",
    "  # Add result_df to the results_list\n",
    "  results_list[[sud]] <- result_df\n",
    "}\n",
    "\n",
    "# Combine results for all SUDs into one data frame\n",
    "all_results_df <- do.call(rbind, results_list)\n",
    "\n"
   ]
  },
  {
   "cell_type": "code",
   "execution_count": null,
   "id": "51985cf4",
   "metadata": {},
   "outputs": [],
   "source": [
    "all_results_df"
   ]
  },
  {
   "cell_type": "code",
   "execution_count": null,
   "id": "7c4851a3",
   "metadata": {},
   "outputs": [],
   "source": [
    "write.csv(all_results_df, file = \"./regression_analysis_results_test.csv\", row.names = FALSE)"
   ]
  },
  {
   "cell_type": "code",
   "execution_count": null,
   "id": "2053c3ce",
   "metadata": {},
   "outputs": [],
   "source": [
    "#install.packages(\"table1\")\n",
    "library(table1)\n",
    "library(IRdisplay)"
   ]
  },
  {
   "cell_type": "code",
   "execution_count": null,
   "id": "903f64ad",
   "metadata": {},
   "outputs": [],
   "source": [
    "tableOutput <- table1(~ as.factor(Sex) + Age + as.factor(FPL) + as.factor(Lang) | as.factor(Hispanic), data=dataForRegression )"
   ]
  },
  {
   "cell_type": "code",
   "execution_count": null,
   "id": "8dfc513c",
   "metadata": {},
   "outputs": [],
   "source": [
    "display_html( tableOutput )"
   ]
  }
 ],
 "metadata": {
  "kernelspec": {
   "display_name": "R",
   "language": "R",
   "name": "ir"
  },
  "language_info": {
   "codemirror_mode": "r",
   "file_extension": ".r",
   "mimetype": "text/x-r-source",
   "name": "R",
   "pygments_lexer": "r",
   "version": "4.3.3"
  }
 },
 "nbformat": 4,
 "nbformat_minor": 5
}
