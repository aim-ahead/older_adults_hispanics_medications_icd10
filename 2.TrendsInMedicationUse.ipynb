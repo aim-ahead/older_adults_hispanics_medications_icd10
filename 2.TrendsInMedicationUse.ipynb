{
 "cells": [
  {
   "cell_type": "code",
   "execution_count": null,
   "id": "ab0a81fc",
   "metadata": {},
   "outputs": [],
   "source": [
    "#### Packages installation\n",
    "library(dplyr)\n",
    "library(tidyverse)\n",
    "library(ggplot2)"
   ]
  },
  {
   "cell_type": "code",
   "execution_count": null,
   "id": "b8b7d788",
   "metadata": {},
   "outputs": [],
   "source": [
    "meds <- read.delim(\"./tblMedNonHispF_codes.txt\", sep=\",\", header = TRUE)\n"
   ]
  },
  {
   "cell_type": "code",
   "execution_count": null,
   "id": "534f1354",
   "metadata": {},
   "outputs": [],
   "source": [
    "dim(meds)\n",
    "head(meds)"
   ]
  },
  {
   "cell_type": "code",
   "execution_count": null,
   "id": "ea27dc94",
   "metadata": {},
   "outputs": [],
   "source": [
    "icd <- read.delim(\"tblICD10_date_non_hispanics.txt\", sep=\",\", header = TRUE)"
   ]
  },
  {
   "cell_type": "code",
   "execution_count": null,
   "id": "8f68367d",
   "metadata": {},
   "outputs": [],
   "source": [
    "dim(icd)"
   ]
  },
  {
   "cell_type": "code",
   "execution_count": null,
   "id": "c8cab74b",
   "metadata": {},
   "outputs": [],
   "source": [
    "length(unique(icd$PATIENT_NUM))"
   ]
  },
  {
   "cell_type": "code",
   "execution_count": null,
   "id": "d3514674",
   "metadata": {},
   "outputs": [],
   "source": [
    "head(icd)\n",
    "dim(icd)"
   ]
  },
  {
   "cell_type": "code",
   "execution_count": null,
   "id": "a0ef4c6f",
   "metadata": {},
   "outputs": [],
   "source": [
    "### clean and format the files\n",
    "#format the data\n",
    "meds_formatted <- meds %>%\n",
    "filter( age_at_observation >= 65) %>%\n",
    "mutate( RXNORM = sapply(strsplit( as.character(concept_cd), \"[:]\"), '[', 2), \n",
    "        med_date = sapply(strsplit( as.character(start_date), \" \"), '[', 1)) %>%\n",
    "select( PATIENT_NUM, RXNORM, med_date ) %>%\n",
    "unique()\n",
    "\n",
    "head(meds_formatted)"
   ]
  },
  {
   "cell_type": "code",
   "execution_count": null,
   "id": "99a42c27",
   "metadata": {},
   "outputs": [],
   "source": [
    "icd_formatted <- icd %>%\n",
    "mutate( ICD = sapply(strsplit( as.character(CONCEPT_CD), \"[.]\"), '[', 1), \n",
    "        ICD = gsub(\"ICD10CM:\", \"\", ICD), \n",
    "        diag_date = sapply(strsplit( as.character(START_DATE), \" \"), '[', 1),\n",
    "        demog = sapply(strsplit( as.character(HISPANIC_CD), \"[:]\"), '[', 2)) %>%\n",
    "select( PATIENT_NUM, ICD, diag_date, demog ) %>%\n",
    "unique()\n",
    "\n",
    "head(icd_formatted)"
   ]
  },
  {
   "cell_type": "code",
   "execution_count": null,
   "id": "82b0c832",
   "metadata": {},
   "outputs": [],
   "source": [
    "### merge both files by patient and date\n",
    "ICD_med <- merge( icd_formatted, meds_formatted, by=\"PATIENT_NUM\")\n",
    "head(ICD_med)\n"
   ]
  },
  {
   "cell_type": "code",
   "execution_count": null,
   "id": "4da9bec5",
   "metadata": {},
   "outputs": [],
   "source": [
    "### estimate the date differences between diag date and med date\n",
    "### select the ones that happend in 0-7 days difference \n",
    "ICD_med_filtered <- ICD_med %>%\n",
    "                    mutate( days = as.Date(med_date) - as.Date(diag_date)) %>%\n",
    "                    filter( days >= 0 & days <= 7)"
   ]
  },
  {
   "cell_type": "code",
   "execution_count": null,
   "id": "859327e0",
   "metadata": {},
   "outputs": [],
   "source": [
    "head(ICD_med_filtered)"
   ]
  },
  {
   "cell_type": "code",
   "execution_count": null,
   "id": "c41b8781",
   "metadata": {},
   "outputs": [],
   "source": [
    "summary(as.numeric(ICD_med_filtered$days))\n",
    "length(unique(ICD_med_filtered$PATIENT_NUM))\n",
    "length(unique(ICD_med_filtered$RXNORM))"
   ]
  },
  {
   "cell_type": "code",
   "execution_count": null,
   "id": "496c013b",
   "metadata": {},
   "outputs": [],
   "source": [
    "### read the concept dimension table\n",
    "### filter by the RXNORM concepts, and use the concept path to aggregate the results in a meaningful \n",
    "### way without loosing information"
   ]
  },
  {
   "cell_type": "code",
   "execution_count": null,
   "id": "5412aab7",
   "metadata": {},
   "outputs": [],
   "source": [
    "concept_dimension <- read.delim(\"concept_dimension.txt\", sep = \",\", header = TRUE)"
   ]
  },
  {
   "cell_type": "code",
   "execution_count": null,
   "id": "0910930d",
   "metadata": {},
   "outputs": [],
   "source": [
    "#filter by medications\n",
    "concept_dimension <- concept_dimension %>% \n",
    "mutate( concept_type = sapply(strsplit( as.character(CONCEPT_PATH), \"\\\\\\\\\"), '[', 3)) %>%\n",
    "filter( concept_type == 'MedicationsByVaClassV2_09302018')"
   ]
  },
  {
   "cell_type": "code",
   "execution_count": null,
   "id": "0dd1fa08",
   "metadata": {},
   "outputs": [],
   "source": [
    "head(concept_dimension)"
   ]
  },
  {
   "cell_type": "code",
   "execution_count": null,
   "id": "c06f4f75",
   "metadata": {},
   "outputs": [],
   "source": [
    "# extract the codes at 3 different levels \n",
    "concept_dimension <- concept_dimension %>% \n",
    "mutate( concept_type_l1 = sapply(strsplit( as.character(CONCEPT_PATH), \"\\\\\\\\\"), '[', 5), \n",
    "       concept_type_l2 = sapply(strsplit( as.character(CONCEPT_PATH), \"\\\\\\\\\"), '[', 6))\n",
    "\n",
    "head(concept_dimension)"
   ]
  },
  {
   "cell_type": "code",
   "execution_count": null,
   "id": "69cdb97d",
   "metadata": {},
   "outputs": [],
   "source": [
    "### select the RXNORMS\n",
    "rxnorms <- concept_dimension %>%\n",
    "mutate( code_type = sapply(strsplit( as.character(CONCEPT_CD), \"[:]\"), '[', 1), \n",
    "        code      = sapply(strsplit( as.character(CONCEPT_CD), \"[:]\"), '[', 2)) %>%\n",
    "filter( code_type == \"RXNORM\") %>%\n",
    "select( code_type, code, description = NAME_CHAR, concept_type_l1, concept_type_l2) %>%\n",
    "unique()\n",
    "\n",
    "head(rxnorms)\n"
   ]
  },
  {
   "cell_type": "code",
   "execution_count": null,
   "id": "50272127",
   "metadata": {},
   "outputs": [],
   "source": [
    "level1_description <- concept_dimension %>%\n",
    "filter( is.na( concept_type_l2 ) ) %>%\n",
    "mutate( description_l1 = sapply(strsplit( as.character(NAME_CHAR), \"[(]\"), '[', 1)) %>%\n",
    "filter( !is.na( concept_type_l1))%>%\n",
    "select( concept_type_l1, description_l1 ) %>%\n",
    "unique()\n",
    "\n",
    "dim(level1_description)\n",
    "head(level1_description)"
   ]
  },
  {
   "cell_type": "code",
   "execution_count": null,
   "id": "a8170106",
   "metadata": {},
   "outputs": [],
   "source": [
    "level2_description <- concept_dimension %>%\n",
    "mutate( code_type = sapply(strsplit( as.character(CONCEPT_CD), \"[:]\"), '[', 1)) %>%\n",
    "filter( code_type == \"VANDF\" &\n",
    "        !is.na( concept_type_l2)) %>%\n",
    "mutate( description_l2 = sapply(strsplit( as.character(NAME_CHAR), \"[(]\"), '[', 1)) %>%\n",
    "select( concept_type_l1, concept_type_l2, description_l2 ) %>%\n",
    "unique()\n",
    "\n",
    "head(level2_description)"
   ]
  },
  {
   "cell_type": "code",
   "execution_count": null,
   "id": "3e8fda7c",
   "metadata": {},
   "outputs": [],
   "source": [
    "### put together both tables, joined by concept_type_l1\n",
    "aggregate_codes <- merge( level1_description, level2_description, by=\"concept_type_l1\")\n",
    "head(aggregate_codes)"
   ]
  },
  {
   "cell_type": "code",
   "execution_count": null,
   "id": "94ea6ce1",
   "metadata": {},
   "outputs": [],
   "source": [
    "## add it to the rxnorm table\n",
    "rxnorms_complete <- merge( rxnorms, aggregate_codes, by = \"concept_type_l2\") %>%\n",
    "select( code_type, RXNORM = code, description, concept_type_l1 = concept_type_l1.x, concept_type_l2, description_l1, description_l2)"
   ]
  },
  {
   "cell_type": "code",
   "execution_count": null,
   "id": "c7cdbf1a",
   "metadata": {},
   "outputs": [],
   "source": [
    "head(rxnorms_complete)"
   ]
  },
  {
   "cell_type": "code",
   "execution_count": null,
   "id": "953b6e5c",
   "metadata": {},
   "outputs": [],
   "source": [
    "rxnorm_dictionary <-rxnorms_complete "
   ]
  },
  {
   "cell_type": "code",
   "execution_count": null,
   "id": "655294af",
   "metadata": {},
   "outputs": [],
   "source": [
    "save(rxnorm_dictionary, file=\"rxnorm_dictionary.RData\")"
   ]
  },
  {
   "cell_type": "code",
   "execution_count": null,
   "id": "b86c68ed",
   "metadata": {},
   "outputs": [],
   "source": [
    "rxnorms_complete %>% filter( RXNORM == \"198051\")"
   ]
  },
  {
   "cell_type": "code",
   "execution_count": null,
   "id": "de91e0a6",
   "metadata": {},
   "outputs": [],
   "source": [
    "### we add this information to the ICD_med_filtered\n",
    "dim(ICD_med_filtered)\n",
    "\n",
    "ICD_med_filtered_codes_agg <- merge( ICD_med_filtered, rxnorms_complete, by = \"RXNORM\")\n",
    "\n",
    "dim(ICD_med_filtered_codes_agg)\n",
    "head(ICD_med_filtered_codes_agg)"
   ]
  },
  {
   "cell_type": "code",
   "execution_count": null,
   "id": "a957f67c",
   "metadata": {},
   "outputs": [],
   "source": [
    "missingCodes <- unique( ICD_med_filtered_codes_agg[! ICD_med_filtered_codes_agg$RXNORM %in% rxnorms_complete$RXNORM, \"RXNORM\"] )\n",
    "presentCodes <- unique( ICD_med_filtered_codes_agg[ICD_med_filtered_codes_agg$RXNORM %in% rxnorms_complete$RXNORM, \"RXNORM\"] )\n"
   ]
  },
  {
   "cell_type": "code",
   "execution_count": null,
   "id": "9d458813",
   "metadata": {},
   "outputs": [],
   "source": [
    "head(ICD_med_filtered_codes_agg)"
   ]
  },
  {
   "cell_type": "code",
   "execution_count": null,
   "id": "75c555e4",
   "metadata": {},
   "outputs": [],
   "source": [
    "## change the ICD codes for the description\n",
    "## RD = Related Disorders\n",
    "ICD_med_filtered_codes_agg$ICD <- gsub( \"F10\", \"Alcohol RD\", ICD_med_filtered_codes_agg$ICD)\n",
    "ICD_med_filtered_codes_agg$ICD <- gsub( \"F11\", \"Opioid RD\", ICD_med_filtered_codes_agg$ICD)\n",
    "ICD_med_filtered_codes_agg$ICD <- gsub( \"F12\", \"Cannabis RD\", ICD_med_filtered_codes_agg$ICD)\n",
    "ICD_med_filtered_codes_agg$ICD <- gsub( \"F13\", \"Sedative, hypnotic, or anxiolytic RD\", ICD_med_filtered_codes_agg$ICD)\n",
    "ICD_med_filtered_codes_agg$ICD <- gsub( \"F14\", \"Cocaine RD\", ICD_med_filtered_codes_agg$ICD)\n",
    "ICD_med_filtered_codes_agg$ICD <- gsub( \"F15\", \"Other stimulant RD\", ICD_med_filtered_codes_agg$ICD)\n",
    "ICD_med_filtered_codes_agg$ICD <- gsub( \"F16\", \"Hallucinogen RD\", ICD_med_filtered_codes_agg$ICD)\n",
    "ICD_med_filtered_codes_agg$ICD <- gsub( \"F17\", \"Nicotine dependence\", ICD_med_filtered_codes_agg$ICD)\n",
    "ICD_med_filtered_codes_agg$ICD <- gsub( \"F18\", \"Inhalant RD\", ICD_med_filtered_codes_agg$ICD)\n",
    "ICD_med_filtered_codes_agg$ICD <- gsub( \"F19\", \"Other psychoactive substance RD\", ICD_med_filtered_codes_agg$ICD)"
   ]
  },
  {
   "cell_type": "code",
   "execution_count": null,
   "id": "7429bfd0",
   "metadata": {},
   "outputs": [],
   "source": [
    "### analysis at level 1\n",
    "level1_analysis <- ICD_med_filtered_codes_agg %>%\n",
    "select( PATIENT_NUM, ICD, description_l1) %>%\n",
    "unique()\n",
    "\n",
    "dim(level1_analysis)\n",
    "\n",
    "level2_analysis <- ICD_med_filtered_codes_agg %>%\n",
    "select( PATIENT_NUM, ICD, description_l1, description_l2) %>%\n",
    "unique()\n",
    "\n",
    "dim(level2_analysis)"
   ]
  },
  {
   "cell_type": "code",
   "execution_count": null,
   "id": "86f5fedc",
   "metadata": {},
   "outputs": [],
   "source": [
    "head(level1_analysis)"
   ]
  },
  {
   "cell_type": "code",
   "execution_count": null,
   "id": "9c4d756a",
   "metadata": {},
   "outputs": [],
   "source": [
    "head(level2_analysis)"
   ]
  },
  {
   "cell_type": "code",
   "execution_count": null,
   "id": "34ce843e",
   "metadata": {},
   "outputs": [],
   "source": [
    "### Get the counts and create the heatmap\n",
    "\n",
    "#### LEvel 1\n",
    "counts_l1 <- level1_analysis %>%\n",
    "group_by( ICD, description_l1 ) %>%\n",
    "summarise( dist_pat = n_distinct(PATIENT_NUM)) %>%\n",
    "arrange( desc( dist_pat) )\n",
    "\n",
    "head(counts_l1)\n",
    "\n",
    "counts_l2 <- level2_analysis %>%\n",
    "group_by( ICD, description_l2, description_l1 ) %>%\n",
    "summarise( dist_pat = n_distinct(PATIENT_NUM)) %>%\n",
    "arrange( desc( dist_pat) )\n",
    "\n",
    "head(counts_l2)"
   ]
  },
  {
   "cell_type": "code",
   "execution_count": null,
   "id": "e49f9f7c",
   "metadata": {},
   "outputs": [],
   "source": [
    "### heatmaps\n",
    "### LEVEL 1\n",
    "options(repr.plot.width=12, repr.plot.height=8)\n",
    "\n",
    "ggplot(counts_l1, aes(x = ICD, y = description_l1, fill=dist_pat)) + \n",
    "  geom_tile() +\n",
    "  scale_fill_gradient(low=\"white\", high=\"blue\") +\n",
    "  theme(axis.text.x = element_text(angle = 45, vjust = 1, hjust=1), \n",
    "       axis.title.x = element_blank(), \n",
    "       axis.title.y = element_blank())"
   ]
  },
  {
   "cell_type": "code",
   "execution_count": null,
   "id": "0c827b99",
   "metadata": {},
   "outputs": [],
   "source": [
    "head(counts_l2)"
   ]
  },
  {
   "cell_type": "code",
   "execution_count": null,
   "id": "eeb541b9",
   "metadata": {},
   "outputs": [],
   "source": [
    "### LEVEL 2\n",
    "options(repr.plot.width=12, repr.plot.height=8)\n",
    "\n",
    "####\n",
    "counts_l2 %>%\n",
    "filter( description_l1 == \"Central Nervous System Medications \") %>%\n",
    "ggplot( aes(x = ICD, y = description_l2, fill=dist_pat)) + \n",
    "  geom_tile() +\n",
    "  scale_fill_gradient(low=\"white\", high=\"orange\") +\n",
    "  facet_wrap( ~description_l1 )+\n",
    "  theme(axis.text.x = element_text(angle = 45, vjust = 1, hjust=1), \n",
    "       axis.title.x = element_blank(), \n",
    "       axis.title.y = element_blank())"
   ]
  },
  {
   "cell_type": "code",
   "execution_count": null,
   "id": "57913c31",
   "metadata": {
    "scrolled": true
   },
   "outputs": [],
   "source": [
    "options(repr.plot.width=12, repr.plot.height=8)\n",
    "\n",
    "counts_l2 %>%\n",
    "filter( description_l1 == \"Cardiovascular Medications \") %>%\n",
    "ggplot( aes(x = ICD, y = description_l2, fill=dist_pat)) + \n",
    "  geom_tile() +\n",
    "  scale_fill_gradient(low=\"white\", high=\"darkgreen\") +\n",
    "  facet_wrap( ~description_l1 )+\n",
    "  theme(axis.text.x = element_text(angle = 45, vjust = 1, hjust=1), \n",
    "       axis.title.x = element_blank(), \n",
    "       axis.title.y = element_blank())"
   ]
  },
  {
   "cell_type": "code",
   "execution_count": null,
   "id": "d6e8b02a",
   "metadata": {},
   "outputs": [],
   "source": [
    "### add the percentage (out of total patients diagnosed with an FX code, % prescribed with each medication)\n",
    "\n",
    "counts_total <- level1_analysis %>%\n",
    "group_by( ICD ) %>%\n",
    "summarise( total_pat = n_distinct(PATIENT_NUM)) %>%\n",
    "arrange( desc( total_pat) )\n",
    "\n",
    "head(counts_total)\n"
   ]
  },
  {
   "cell_type": "code",
   "execution_count": null,
   "id": "15978da9",
   "metadata": {},
   "outputs": [],
   "source": [
    "head(counts_l1)"
   ]
  },
  {
   "cell_type": "code",
   "execution_count": null,
   "id": "6b331859",
   "metadata": {},
   "outputs": [],
   "source": [
    "### heatmaps percenage \n",
    "### LEVEL 1\n",
    "perc_l1 <- counts_l1 %>%\n",
    "              left_join( counts_total, by = \"ICD\") %>%\n",
    "              mutate( perc_patients = round(100*dist_pat/total_pat,2))\n",
    "head(perc_l1)\n",
    "\n",
    "options(repr.plot.width=12, repr.plot.height=8)\n",
    "\n",
    "ggplot(perc_l1, aes(x = ICD, y = description_l1, fill=perc_patients)) + \n",
    "  geom_tile() +\n",
    "  scale_fill_gradient(limits = c(0,100), low=\"white\", high=\"blue\") +\n",
    "    theme(axis.text.x = element_text(angle = 45, vjust = 1, hjust=1), \n",
    "       axis.title.x = element_blank(), \n",
    "       axis.title.y = element_blank())"
   ]
  },
  {
   "cell_type": "code",
   "execution_count": null,
   "id": "6be4bebb",
   "metadata": {},
   "outputs": [],
   "source": []
  },
  {
   "cell_type": "code",
   "execution_count": null,
   "id": "44af9de3",
   "metadata": {},
   "outputs": [],
   "source": [
    "### LEVEL 2\n",
    "perc_l2 <- counts_l2 %>%\n",
    "              left_join( counts_total, by = \"ICD\") %>%\n",
    "              mutate( perc_patients = round(100*dist_pat/total_pat,2))\n",
    "head(perc_l2)\n",
    "\n",
    "options(repr.plot.width=12, repr.plot.height=8)\n",
    "\n",
    "####\n",
    "perc_l2 %>%\n",
    "filter( description_l1 == \"Central Nervous System Medications \") %>%\n",
    "ggplot( aes(x = ICD, y = description_l2, fill=perc_patients)) + \n",
    "  geom_tile() +\n",
    "  scale_fill_gradient(low=\"white\", high=\"orange\") +\n",
    "  facet_wrap( ~description_l1 )+\n",
    "  theme(axis.text.x = element_text(angle = 45, vjust = 1, hjust=1), \n",
    "       axis.title.x = element_blank(), \n",
    "       axis.title.y = element_blank())"
   ]
  },
  {
   "cell_type": "markdown",
   "id": "2d02f36f",
   "metadata": {},
   "source": [
    "#### Temporal trend"
   ]
  },
  {
   "cell_type": "code",
   "execution_count": null,
   "id": "ec1f42c3",
   "metadata": {},
   "outputs": [],
   "source": [
    "med_temp_trend <- ICD_med_filtered_codes_agg %>%\n",
    "        mutate( year = sapply(strsplit( as.character(med_date), \"-\"), '[', 1)) %>%\n",
    "        select( PATIENT_NUM, year, description, description_l1, description_l2) %>%\n",
    "        unique()\n",
    "\n",
    "head(med_temp_trend)"
   ]
  },
  {
   "cell_type": "code",
   "execution_count": null,
   "id": "28269a47",
   "metadata": {},
   "outputs": [],
   "source": [
    "counts_med_year_l1 <- med_temp_trend %>%\n",
    "    group_by( year, description_l1 ) %>%\n",
    "    summarize( pat = n_distinct(PATIENT_NUM))\n",
    "\n",
    "counts_med_year_l2 <- med_temp_trend %>%\n",
    "    group_by( year, description_l2 ) %>%\n",
    "    summarize( pat = n_distinct(PATIENT_NUM))\n"
   ]
  },
  {
   "cell_type": "code",
   "execution_count": null,
   "id": "731d9f5d",
   "metadata": {},
   "outputs": [],
   "source": [
    "head(counts_med_year_l2)"
   ]
  },
  {
   "cell_type": "code",
   "execution_count": null,
   "id": "7984afe9",
   "metadata": {},
   "outputs": [],
   "source": [
    "options(repr.plot.width=12, repr.plot.height=8)\n",
    "\n",
    "ggplot(counts_med_year_l1,  aes(x = year, y = description_l1, fill=pat)) + \n",
    "  geom_tile() +\n",
    "  scale_fill_gradient(low=\"white\", high=\"blue\") +\n",
    "  theme(axis.text.x = element_text(angle = 45, vjust = 1, hjust=1), \n",
    "       axis.title.x = element_blank(), \n",
    "       axis.title.y = element_blank())"
   ]
  },
  {
   "cell_type": "code",
   "execution_count": null,
   "id": "621516dd",
   "metadata": {},
   "outputs": [],
   "source": [
    "options(repr.plot.width=12, repr.plot.height=8)\n",
    "\n",
    "counts_med_year_l2 %>%\n",
    "filter( pat > 40 ) %>%\n",
    "ggplot( aes(x = year, y = description_l2, fill=pat)) + \n",
    "  geom_tile() +\n",
    "  scale_fill_gradient(low=\"white\", high=\"blue\") +\n",
    "  theme(axis.text.x = element_text(angle = 45, vjust = 1, hjust=1), \n",
    "       axis.title.x = element_blank(), \n",
    "       axis.title.y = element_blank())"
   ]
  },
  {
   "cell_type": "code",
   "execution_count": null,
   "id": "da32ad1c",
   "metadata": {},
   "outputs": [],
   "source": [
    "head(perc_l1)"
   ]
  },
  {
   "cell_type": "code",
   "execution_count": null,
   "id": "dcd9ca07",
   "metadata": {},
   "outputs": [],
   "source": [
    "nonHispanic <- ls()\n",
    "nonHispanic <- nonHispanic[nonHispanic %in% c(\"counts_med_year_l2\", \"counts_med_year_l1\", \"perc_l2\", \"perc_l1\")]\n",
    "\n",
    "save( list = nonHispanic, file = \"non_hispanic_trendsInMedicationUse.RData\") \n"
   ]
  }
 ],
 "metadata": {
  "kernelspec": {
   "display_name": "R",
   "language": "R",
   "name": "ir"
  },
  "language_info": {
   "codemirror_mode": "r",
   "file_extension": ".r",
   "mimetype": "text/x-r-source",
   "name": "R",
   "pygments_lexer": "r",
   "version": "4.2.3"
  }
 },
 "nbformat": 4,
 "nbformat_minor": 5
}
