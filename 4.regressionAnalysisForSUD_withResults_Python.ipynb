{
 "cells": [
  {
   "cell_type": "markdown",
   "id": "69874c06",
   "metadata": {},
   "source": [
    "# Import libraries"
   ]
  },
  {
   "cell_type": "code",
   "execution_count": null,
   "id": "5f8b4e1b",
   "metadata": {},
   "outputs": [],
   "source": [
    "import pandas as pd\n",
    "import numpy as np"
   ]
  },
  {
   "cell_type": "code",
   "execution_count": null,
   "id": "4c047361",
   "metadata": {},
   "outputs": [],
   "source": [
    "# Read input data\n",
    "dataForRegression = pd.read_csv(\"demographic_icd_ML_aditional_f_column.txt\") \n",
    "dataForRegression.shape"
   ]
  },
  {
   "cell_type": "markdown",
   "id": "157ce1b7",
   "metadata": {},
   "source": [
    "# Read the input data"
   ]
  },
  {
   "cell_type": "raw",
   "id": "f74b969f",
   "metadata": {},
   "source": [
    "This input data set contains the 356,133 patients that met the inclusion criteria for our study. It contains one patient per row, and in the columns, it contains the main demographic information, followed by the SUD, marked as 1 when the patient had at least 1 ICD code for the category, and 0 when the patient had no ICD code in that category in the study period."
   ]
  },
  {
   "cell_type": "code",
   "execution_count": null,
   "id": "f517473f",
   "metadata": {
    "scrolled": false
   },
   "outputs": [],
   "source": [
    "dataForRegression.head(1)"
   ]
  },
  {
   "cell_type": "code",
   "execution_count": null,
   "id": "020d772e",
   "metadata": {
    "scrolled": true
   },
   "outputs": [],
   "source": [
    "dataForRegression.columns"
   ]
  },
  {
   "cell_type": "code",
   "execution_count": null,
   "id": "445764d1",
   "metadata": {
    "scrolled": true
   },
   "outputs": [],
   "source": [
    "# Drop columns\n",
    "dataForRegression.drop(columns=['Unnamed: 0', 'Race', 'M_Status', 'State', 'predicted_f_code'], inplace=True)\n",
    "\n",
    "# Print the first few rows\n",
    "dataForRegression.head(1)"
   ]
  },
  {
   "cell_type": "raw",
   "id": "8ea133e0",
   "metadata": {},
   "source": [
    "dataForRegression['Sex'].value_counts()"
   ]
  },
  {
   "cell_type": "markdown",
   "id": "923f1203",
   "metadata": {},
   "source": [
    "# Reformat the data for the model"
   ]
  },
  {
   "cell_type": "raw",
   "id": "e4056943",
   "metadata": {},
   "source": [
    "We reformat the data, to present:\n",
    "\n",
    "Hispanic and Sex as 0-1\n",
    "Age as numeric\n",
    "FPL as character\n",
    "We also rename the columns from th F codes to the actual names."
   ]
  },
  {
   "cell_type": "code",
   "execution_count": null,
   "id": "263e10eb",
   "metadata": {},
   "outputs": [],
   "source": [
    "# Convert categorical variables to numeric\n",
    "\n",
    "# Map 'Y' to 1 and 'N' to 0 for Hispanic variable\n",
    "dataForRegression['Hispanic'] = dataForRegression['Hispanic'].map({'Y': 1, 'N': 0})\n",
    "\n",
    "# Map 'M' to 1 and 'F' to 0 for Sex variable\n",
    "dataForRegression['Sex'] = dataForRegression['Sex'].map({'M': 1, 'F': 0})\n",
    "\n",
    "# Convert Age column to numeric\n",
    "dataForRegression['Age'] = pd.to_numeric(dataForRegression['Age'])\n",
    "\n",
    "# Convert FPL column to string (assuming it's not already)\n",
    "dataForRegression['FPL'] = dataForRegression['FPL'].astype(str)\n"
   ]
  },
  {
   "cell_type": "code",
   "execution_count": null,
   "id": "8d246cd6",
   "metadata": {
    "scrolled": false
   },
   "outputs": [],
   "source": [
    "# Print the first few rows\n",
    "dataForRegression.head(1)"
   ]
  },
  {
   "cell_type": "code",
   "execution_count": null,
   "id": "b008fbfb",
   "metadata": {},
   "outputs": [],
   "source": [
    "# Ensure FPL column is already converted to string (as you've mentioned earlier)\n",
    "dataForRegression['FPL'] = dataForRegression['FPL'].astype(str)\n",
    "\n",
    "# Rename columns\n",
    "dataForRegression.rename(columns={\n",
    "    dataForRegression.columns[-10:][i]: [\"Alcohol\", \"Opioid\", \"Cannabis\", \"Sedative_hypnoti_anxiolytic\", \"Cocaine\",\n",
    "                                          \"OtherStimulant\", \"Hallucinogen\", \"NicotineDependence\", \"Inhalant\", \n",
    "                                          \"Other_psychoactive_substance\"][i] for i in range(10)\n",
    "}, inplace=True)\n"
   ]
  },
  {
   "cell_type": "code",
   "execution_count": null,
   "id": "609745d2",
   "metadata": {},
   "outputs": [],
   "source": [
    "# Print the first few rows\n",
    "dataForRegression.head(1)"
   ]
  },
  {
   "cell_type": "markdown",
   "id": "54b9fb62",
   "metadata": {},
   "source": [
    "# Regression analysis"
   ]
  },
  {
   "cell_type": "raw",
   "id": "d36e3758",
   "metadata": {},
   "source": [
    "We do a for loop that allow us to do a regression analysis for each of the SUDs. We use the formula: sud ~ Sex + Age + Hispanic + FPL + Lang"
   ]
  },
  {
   "cell_type": "code",
   "execution_count": null,
   "id": "9fea1314",
   "metadata": {},
   "outputs": [],
   "source": [
    "# Print the first few rows\n",
    "dataForRegression.columns"
   ]
  },
  {
   "cell_type": "code",
   "execution_count": null,
   "id": "299a1225",
   "metadata": {
    "scrolled": false
   },
   "outputs": [],
   "source": [
    "import statsmodels.api as sm\n",
    "\n",
    "# List of SUDs\n",
    "sud_list = [\"Alcohol\", \"Opioid\", \"Cannabis\", \"Sedative_hypnoti_anxiolytic\", \"Cocaine\",\n",
    "            \"OtherStimulant\", \"Hallucinogen\", \"NicotineDependence\", \"Inhalant\", \"Other_psychoactive_substance\"]\n",
    "\n",
    "# Loop through each SUD\n",
    "for sud in sud_list:\n",
    "    print(sud)\n",
    "    formula = sud + \" ~ Sex + Age + Hispanic + FPL + Lang\"\n",
    "    model = sm.GLM.from_formula(formula, data=dataForRegression, family=sm.families.Binomial()).fit()\n",
    "    print(model.summary())\n",
    "    print(\"####\")\n"
   ]
  },
  {
   "cell_type": "raw",
   "id": "b6fc6bcd",
   "metadata": {},
   "source": [
    "We have really low number of patients with Hallucinogen and Inhalant, that's why the model does not converge. We check below the number of cases and controls for each SUD."
   ]
  },
  {
   "cell_type": "code",
   "execution_count": null,
   "id": "d6932bef",
   "metadata": {},
   "outputs": [],
   "source": [
    "# Summarize counts for each level of the specified columns\n",
    "print(dataForRegression['Alcohol'].value_counts())\n",
    "print(dataForRegression['Opioid'].value_counts())\n",
    "print(dataForRegression['Cannabis'].value_counts())\n",
    "print(dataForRegression['Sedative_hypnoti_anxiolytic'].value_counts())\n",
    "print(dataForRegression['Cocaine'].value_counts())\n",
    "print(dataForRegression['OtherStimulant'].value_counts())\n",
    "print(dataForRegression['Hallucinogen'].value_counts())\n",
    "print(dataForRegression['NicotineDependence'].value_counts())\n",
    "print(dataForRegression['Inhalant'].value_counts())\n",
    "print(dataForRegression['Other_psychoactive_substance'].value_counts())"
   ]
  },
  {
   "cell_type": "markdown",
   "id": "ce094c93",
   "metadata": {},
   "source": [
    "# Save the results in a table"
   ]
  },
  {
   "cell_type": "raw",
   "id": "10dc69df",
   "metadata": {},
   "source": [
    "We extract from each regression, the p-values and coefficients, and estimate the odds ratio and adjusted p-values."
   ]
  },
  {
   "cell_type": "code",
   "execution_count": null,
   "id": "e6c5948a",
   "metadata": {},
   "outputs": [],
   "source": [
    "from statsmodels.stats.multitest import multipletests\n",
    "\n",
    "# Create an empty dictionary to store results\n",
    "results_dict = {}\n",
    "\n",
    "# Loop through each SUD\n",
    "for sud in sud_list:\n",
    "    formula = sud + \" ~ Sex + Age + Hispanic + FPL + Lang\"\n",
    "    model = sm.GLM.from_formula(formula, data=dataForRegression, family=sm.families.Binomial()).fit()\n",
    "\n",
    "    # Extract coefficients and p-values\n",
    "    coefficients = round(model.params, 3)\n",
    "    odds_ratio = round(np.exp(coefficients), 3)\n",
    "    p_values = round(model.pvalues, 3)\n",
    "    \n",
    "    # Apply multiple testing correction (Benjamini-Hochberg)\n",
    "    adjusted_p_values = multipletests(p_values, method='fdr_bh')[1]\n",
    "    adjusted_p_values = [round(val, 3) for val in adjusted_p_values]  # Round each element\n",
    "    \n",
    "    # Combine results into a DataFrame\n",
    "    result_df = pd.DataFrame({\n",
    "        \"Predictor\": coefficients.index,\n",
    "        \"Coefficient\": coefficients.values,\n",
    "        \"Odds_Ratio\": odds_ratio.values,\n",
    "        \"P_value\": p_values.values,\n",
    "        \"Adjusted_P_Value\": adjusted_p_values\n",
    "    })\n",
    "    \n",
    "    # Add result_df to the results_dict\n",
    "    results_dict[sud] = result_df\n",
    "\n",
    "# Combine results for all SUDs into one DataFrame\n",
    "all_results_df = pd.concat(results_dict.values(), keys=results_dict.keys())\n",
    "\n",
    "# Write results to CSV\n",
    "all_results_df.to_csv(\"./regression_analysis_results_fullPopulation.csv\", index=False)\n"
   ]
  },
  {
   "cell_type": "markdown",
   "id": "ec8b048c",
   "metadata": {},
   "source": [
    "# Regression analysis for the hispanic subpopulation"
   ]
  },
  {
   "cell_type": "code",
   "execution_count": null,
   "id": "23b4cc76",
   "metadata": {},
   "outputs": [],
   "source": [
    "# Filter the DataFrame\n",
    "dataForRegressionHispanic = dataForRegression[dataForRegression['Hispanic'] == 1]"
   ]
  },
  {
   "cell_type": "code",
   "execution_count": null,
   "id": "cf93c454",
   "metadata": {
    "scrolled": false
   },
   "outputs": [],
   "source": [
    "# Loop through each SUD\n",
    "for sud in sud_list:\n",
    "    print(sud)\n",
    "    formula = sud + \" ~ Sex + Age + FPL + Lang\"\n",
    "    model = sm.GLM.from_formula(formula, data=dataForRegressionHispanic, family=sm.families.Binomial()).fit()\n",
    "    print(model.summary())\n",
    "    print(\"####\")"
   ]
  },
  {
   "cell_type": "code",
   "execution_count": null,
   "id": "78284dea",
   "metadata": {},
   "outputs": [],
   "source": [
    "# Remove existing variable if it exists\n",
    "try:\n",
    "    del results_list\n",
    "except NameError:\n",
    "    pass\n",
    "\n",
    "# Create an empty dictionary to store results\n",
    "results_dict = {}\n",
    "\n",
    "# Loop through each SUD\n",
    "for sud in sud_list:\n",
    "    formula = sud + \" ~ Sex + Age + FPL + Lang\"\n",
    "    model = sm.GLM.from_formula(formula, data=dataForRegressionHispanic, family=sm.families.Binomial()).fit()\n",
    "\n",
    "    # Extract coefficients and p-values\n",
    "    coefficients = round(model.params, 3)\n",
    "    odds_ratio = round(np.exp(coefficients), 3)\n",
    "    p_values = round(model.pvalues, 3)\n",
    "    \n",
    "    # Apply multiple testing correction (Benjamini-Hochberg)\n",
    "    adjusted_p_values = multipletests(p_values, method='fdr_bh')[1]\n",
    "    adjusted_p_values = [round(val, 3) for val in adjusted_p_values]  # Round each element\n",
    "    \n",
    "    # Combine results into a DataFrame\n",
    "    result_df = pd.DataFrame({\n",
    "        \"Predictor\": coefficients.index,\n",
    "        \"Coefficient\": coefficients.values,\n",
    "        \"Odds_Ratio\": odds_ratio.values,\n",
    "        \"P_value\": p_values.values,\n",
    "        \"Adjusted_P_Value\": adjusted_p_values\n",
    "    })\n",
    "    \n",
    "    # Add result_df to the results_dict\n",
    "    results_dict[sud] = result_df\n",
    "\n",
    "# Combine results for all SUDs into one DataFrame\n",
    "hispanic_results_df = pd.concat(results_dict.values(), keys=results_dict.keys())\n",
    "\n",
    "# Write results to CSV\n",
    "hispanic_results_df.to_csv(\"./regression_analysis_results_hispanicPopulation.csv\", index=False)\n"
   ]
  },
  {
   "cell_type": "markdown",
   "id": "3cefa73f",
   "metadata": {},
   "source": [
    "# Regression analysis for the non-hispanic subpopulation"
   ]
  },
  {
   "cell_type": "code",
   "execution_count": null,
   "id": "0666ef21",
   "metadata": {},
   "outputs": [],
   "source": [
    "# Filter the DataFrame\n",
    "dataForRegressionNoHispanic = dataForRegression[dataForRegression['Hispanic'] == 0]\n"
   ]
  },
  {
   "cell_type": "code",
   "execution_count": null,
   "id": "1ec33b5f",
   "metadata": {
    "scrolled": false
   },
   "outputs": [],
   "source": [
    "# Loop through each SUD\n",
    "for sud in sud_list:\n",
    "    print(sud)\n",
    "    formula = sud + \" ~ Sex + Age + FPL + Lang\"\n",
    "    model = sm.GLM.from_formula(formula, data=dataForRegressionNoHispanic, family=sm.families.Binomial()).fit()\n",
    "    print(model.summary())\n",
    "    print(\"####\")\n"
   ]
  },
  {
   "cell_type": "code",
   "execution_count": null,
   "id": "8d32c70d",
   "metadata": {},
   "outputs": [],
   "source": [
    "# Remove existing variable if it exists\n",
    "try:\n",
    "    del results_list\n",
    "except NameError:\n",
    "    pass\n",
    "\n",
    "# Create an empty dictionary to store results\n",
    "results_dict = {}\n",
    "\n",
    "# Loop through each SUD\n",
    "for sud in sud_list:\n",
    "    formula = sud + \" ~ Sex + Age + FPL + Lang\"\n",
    "    model = sm.GLM.from_formula(formula, data=dataForRegressionNoHispanic, family=sm.families.Binomial()).fit()\n",
    "\n",
    "    # Extract coefficients and p-values\n",
    "    coefficients = round(model.params, 3)\n",
    "    odds_ratio = round(np.exp(coefficients), 3)\n",
    "    p_values = round(model.pvalues, 3)\n",
    "    \n",
    "    # Apply multiple testing correction (Benjamini-Hochberg)\n",
    "    adjusted_p_values = multipletests(p_values, method='fdr_bh')[1]\n",
    "    adjusted_p_values = [round(val, 3) for val in adjusted_p_values]  # Round each element\n",
    "    \n",
    "    # Combine results into a DataFrame\n",
    "    result_df = pd.DataFrame({\n",
    "        \"Predictor\": coefficients.index,\n",
    "        \"Coefficient\": coefficients.values,\n",
    "        \"Odds_Ratio\": odds_ratio.values,\n",
    "        \"P_value\": p_values.values,\n",
    "        \"Adjusted_P_Value\": adjusted_p_values\n",
    "    })\n",
    "    \n",
    "    # Add result_df to the results_dict\n",
    "    results_dict[sud] = result_df\n",
    "\n",
    "# Combine results for all SUDs into one DataFrame\n",
    "non_hispanic_results_df = pd.concat(results_dict.values(), keys=results_dict.keys())\n",
    "\n",
    "# Write results to CSV\n",
    "non_hispanic_results_df.to_csv(\"./regression_analysis_results_non_hispanicPopulation.csv\", index=False)\n"
   ]
  },
  {
   "cell_type": "code",
   "execution_count": null,
   "id": "7c1799a3",
   "metadata": {},
   "outputs": [],
   "source": [
    "import sys\n",
    "print(\"Python version:\", sys.version)"
   ]
  },
  {
   "cell_type": "code",
   "execution_count": null,
   "id": "f338bdc3",
   "metadata": {},
   "outputs": [],
   "source": []
  }
 ],
 "metadata": {
  "kernelspec": {
   "display_name": "conda_python3",
   "language": "python",
   "name": "conda_python3"
  },
  "language_info": {
   "codemirror_mode": {
    "name": "ipython",
    "version": 3
   },
   "file_extension": ".py",
   "mimetype": "text/x-python",
   "name": "python",
   "nbconvert_exporter": "python",
   "pygments_lexer": "ipython3",
   "version": "3.10.13"
  }
 },
 "nbformat": 4,
 "nbformat_minor": 5
}
